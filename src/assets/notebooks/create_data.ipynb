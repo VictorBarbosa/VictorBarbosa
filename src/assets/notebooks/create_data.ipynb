{
 "cells": [
  {
   "cell_type": "code",
   "execution_count": 4,
   "metadata": {},
   "outputs": [],
   "source": [
    "import datetime\n",
    "import pickle\n",
    "import numpy as np\n",
    "from sklearn.model_selection import train_test_split"
   ]
  },
  {
   "cell_type": "code",
   "execution_count": 5,
   "metadata": {},
   "outputs": [
    {
     "ename": "KeyboardInterrupt",
     "evalue": "",
     "output_type": "error",
     "traceback": [
      "\u001b[0;31m---------------------------------------------------------------------------\u001b[0m",
      "\u001b[0;31mKeyboardInterrupt\u001b[0m                         Traceback (most recent call last)",
      "Cell \u001b[0;32mIn[5], line 25\u001b[0m\n\u001b[1;32m     23\u001b[0m \u001b[38;5;28;01mfor\u001b[39;00m angle \u001b[38;5;129;01min\u001b[39;00m \u001b[38;5;28mrange\u001b[39m(\u001b[38;5;241m-\u001b[39m\u001b[38;5;241m180\u001b[39m, \u001b[38;5;241m181\u001b[39m):\n\u001b[1;32m     24\u001b[0m         \u001b[38;5;28;01mif\u001b[39;00m sensor_activated:\n\u001b[0;32m---> 25\u001b[0m             data_turn_on_engine\u001b[38;5;241m.\u001b[39mappend([x, currentX, angle,\u001b[38;5;241m1\u001b[39m, \u001b[38;5;241m5\u001b[39m])  \u001b[38;5;66;03m# Ligar o Motor\u001b[39;00m\n\u001b[1;32m     26\u001b[0m         \u001b[38;5;28;01melif\u001b[39;00m \u001b[38;5;241m-\u001b[39m\u001b[38;5;241m90\u001b[39m \u001b[38;5;241m<\u001b[39m\u001b[38;5;241m=\u001b[39m angle \u001b[38;5;241m<\u001b[39m\u001b[38;5;241m=\u001b[39m \u001b[38;5;241m-\u001b[39m\u001b[38;5;241m5\u001b[39m:\n\u001b[1;32m     27\u001b[0m             data_rotate_left\u001b[38;5;241m.\u001b[39mappend([x, currentX, angle,\u001b[38;5;241m0\u001b[39m, \u001b[38;5;241m3\u001b[39m])  \u001b[38;5;66;03m# Girar para a Esquerda\u001b[39;00m\n",
      "\u001b[0;31mKeyboardInterrupt\u001b[0m: "
     ]
    }
   ],
   "source": [
    "import numpy as np\n",
    "\n",
    "# Ações\n",
    "# 0 Nada\n",
    "# 1 Ir para a Esquerda \n",
    "# 2 Ir para a Direita\n",
    "# 3 Girar para a Esquerda\n",
    "# 4 Girar para a Direita\n",
    "# 5 Ligar o Motor\n",
    "\n",
    "# Gerar os dados conforme especificado\n",
    "\n",
    "data_rotate_left = []\n",
    "data_rotate_right = []\n",
    "data_go_right = []\n",
    "data_go_left = []\n",
    "data_turn_on_engine = []\n",
    "\n",
    "# Preencher as listas de dados conforme as condições especificadas\n",
    "for sensor_activated in [True, False]:\n",
    "    for x in range(900):\n",
    "        for currentX in range(900):\n",
    "            for angle in range(-180, 181):\n",
    "                    if sensor_activated:\n",
    "                        data_turn_on_engine.append([x, currentX, angle,1, 5])  # Ligar o Motor\n",
    "                    elif -90 <= angle <= -5:\n",
    "                        data_rotate_left.append([x, currentX, angle,0, 3])  # Girar para a Esquerda\n",
    "                    elif 5 <= angle <= 90:\n",
    "                        data_rotate_right.append([x, currentX, angle,0, 4])  # Girar para a Direita\n",
    "                    elif -5 < angle < 5:\n",
    "                        if currentX < x:\n",
    "                            data_go_right.append([x, currentX, angle,0, 2])  # Ir para a Direita\n",
    "                        elif currentX > x:\n",
    "                            data_go_left.append([x, currentX, angle,0, 1])  # Ir para a Esquerda\n"
   ]
  },
  {
   "cell_type": "code",
   "execution_count": null,
   "metadata": {},
   "outputs": [],
   "source": [
    "\n",
    "# Determinar o tamanho mínimo entre as listas para balanceamento\n",
    "min_size = min(len(data_rotate_left), len(data_rotate_right), len(data_go_right), len(data_go_left), len(data_turn_on_engine))\n",
    "\n",
    "# Balancear as listas\n",
    "balanced_data = (\n",
    "    data_rotate_left[:min_size] +\n",
    "    data_rotate_right[:min_size] +\n",
    "    data_go_right[:min_size] +\n",
    "    data_go_left[:min_size] +\n",
    "    data_turn_on_engine[:min_size]\n",
    ")\n",
    "\n",
    "# Contar a quantidade de cada tipo\n",
    "count_rotate_left = sum(1 for item in balanced_data if item[4] == 3)\n",
    "count_rotate_right = sum(1 for item in balanced_data if item[4] == 4)\n",
    "count_go_right = sum(1 for item in balanced_data if item[4] == 2)\n",
    "count_go_left = sum(1 for item in balanced_data if item[4] == 1)\n",
    "count_turn_on_engine = sum(1 for item in balanced_data if item[4] == 5)\n",
    "\n",
    "# Mostrar a quantidade de cada tipo\n",
    "print(\"total of 'RotateLeft':\", count_rotate_left)\n",
    "print(\"total of 'RotateRight':\", count_rotate_right)\n",
    "print(\"total of 'Go Right':\", count_go_right)\n",
    "print(\"total of 'Go Left':\", count_go_left)\n",
    "print(\"total of 'TurnOnEngine':\", count_turn_on_engine)\n",
    "\n",
    "# Converter para um array numpy 2D\n",
    "balanced_data = np.array(balanced_data, dtype=int)\n",
    "\n",
    "X = balanced_data[:, :4]  # Features: x, currentX e angle\n",
    "y = balanced_data[:, 4]   # Labels: 1, 2, 3, 4 ou 5\n",
    "\n",
    "print(\"Tamanho do balanced_data:\", len(balanced_data))"
   ]
  },
  {
   "cell_type": "code",
   "execution_count": null,
   "metadata": {},
   "outputs": [],
   "source": [
    "# Dividir os dados em conjuntos de treinamento e teste\n",
    "X_train, X_test, y_train, y_test = train_test_split(X, y, test_size=0.2, random_state=42)"
   ]
  },
  {
   "cell_type": "code",
   "execution_count": null,
   "metadata": {},
   "outputs": [],
   "source": [
    "\n",
    "# Salvar os dados em um arquivo .pkl\n",
    "with open('data.pkl', 'wb') as f:\n",
    "    pickle.dump([X_train, y_train, X_test, y_test], f)\n"
   ]
  },
  {
   "cell_type": "markdown",
   "metadata": {},
   "source": [
    "#### The command below is to copy from the docker container to local folder"
   ]
  },
  {
   "cell_type": "code",
   "execution_count": null,
   "metadata": {},
   "outputs": [],
   "source": [
    "!docker cp cool_spence:/tf/models/. /mnt/d/git/victorbarbosa/src/assets/models/"
   ]
  }
 ],
 "metadata": {
  "kernelspec": {
   "display_name": "Python 3 (ipykernel)",
   "language": "python",
   "name": "python3"
  },
  "language_info": {
   "codemirror_mode": {
    "name": "ipython",
    "version": 3
   },
   "file_extension": ".py",
   "mimetype": "text/x-python",
   "name": "python",
   "nbconvert_exporter": "python",
   "pygments_lexer": "ipython3",
   "version": "3.11.7"
  }
 },
 "nbformat": 4,
 "nbformat_minor": 2
}
