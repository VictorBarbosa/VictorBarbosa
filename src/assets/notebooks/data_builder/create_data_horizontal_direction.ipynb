{
 "cells": [
  {
   "cell_type": "code",
   "execution_count": 48,
   "metadata": {},
   "outputs": [],
   "source": [
    "import datetime\n",
    "import pickle\n",
    "import numpy as np\n",
    "from sklearn.model_selection import train_test_split\n",
    "import platform"
   ]
  },
  {
   "cell_type": "code",
   "execution_count": 14,
   "metadata": {},
   "outputs": [],
   "source": [
    "import numpy as np\n",
    "\n",
    "# Ações\n",
    "# 0 Go to left\n",
    "# 1 Go to Right\n",
    "\n",
    "\n",
    "# Gerar os dados conforme especificado\n",
    "\n",
    "label_rotate = []\n",
    "data_rotate = []\n",
    "\n",
    "\n",
    "# Preencher as listas de dados conforme as condições especificadas\n",
    "\n",
    "\n",
    "for targetX in range(1200):\n",
    "    for agentX in range(1200):\n",
    "        if agentX < targetX:\n",
    "            data_rotate.append([targetX,agentX])   \n",
    "            label_rotate.append([1])  \n",
    "        else:\n",
    "            data_rotate.append([targetX,agentX])   \n",
    "            label_rotate.append([0])  \n",
    " "
   ]
  },
  {
   "cell_type": "code",
   "execution_count": 15,
   "metadata": {},
   "outputs": [
    {
     "name": "stdout",
     "output_type": "stream",
     "text": [
      "[757, 859]\n"
     ]
    }
   ],
   "source": [
    "\n",
    "X= data_rotate\n",
    "y= label_rotate\n",
    "# Dividir os dados em conjuntos de treinamento e teste\n",
    "X_train, X_test, y_train, y_test = train_test_split(X, y, test_size=0.2, random_state=42)\n",
    "\n",
    "print(X_train[0])"
   ]
  },
  {
   "cell_type": "code",
   "execution_count": 53,
   "metadata": {},
   "outputs": [],
   "source": [
    "os = platform.system()\n",
    "path = './horizontal_direction_datas.pkl'\n",
    "    \n",
    "if os == 'Darwin':  # 'Darwin' é o nome do kernel do macOS\n",
    "    path = '../../datas/horizontal_direction_datas.pkl'"
   ]
  },
  {
   "cell_type": "code",
   "execution_count": 54,
   "metadata": {},
   "outputs": [],
   "source": [
    "# Salvar os dados em um arquivo .pkl\n",
    "with open(path, 'wb') as f:\n",
    "    pickle.dump([X_train, y_train, X_test, y_test], f)"
   ]
  },
  {
   "cell_type": "code",
   "execution_count": 56,
   "metadata": {},
   "outputs": [
    {
     "name": "stdout",
     "output_type": "stream",
     "text": [
      "50 [1]\n"
     ]
    }
   ],
   "source": [
    "# Carregar os dados do arquivo .pkl\n",
    "with open(path, 'rb') as f:\n",
    "    X_train, y_train, X_test, y_test = pickle.load(f)\n",
    "    \n",
    "    \n",
    "print(X_train[0],y_train[0])"
   ]
  },
  {
   "cell_type": "markdown",
   "metadata": {},
   "source": [
    "#### The command below is to copy from the docker container to local folder"
   ]
  },
  {
   "cell_type": "code",
   "execution_count": 18,
   "metadata": {},
   "outputs": [],
   "source": [
    "# !docker cp cool_spence:/tf/models/. /mnt/d/git/victorbarbosa/src/assets/models/"
   ]
  }
 ],
 "metadata": {
  "kernelspec": {
   "display_name": "Python 3 (ipykernel)",
   "language": "python",
   "name": "python3"
  },
  "language_info": {
   "codemirror_mode": {
    "name": "ipython",
    "version": 3
   },
   "file_extension": ".py",
   "mimetype": "text/x-python",
   "name": "python",
   "nbconvert_exporter": "python",
   "pygments_lexer": "ipython3",
   "version": "3.11.0rc1"
  }
 },
 "nbformat": 4,
 "nbformat_minor": 2
}
