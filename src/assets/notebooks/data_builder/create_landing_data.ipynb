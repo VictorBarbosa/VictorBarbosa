{
 "cells": [
  {
   "cell_type": "code",
   "execution_count": 1,
   "metadata": {},
   "outputs": [],
   "source": [
    "import datetime\n",
    "import pickle\n",
    "import numpy as np\n",
    "from sklearn.model_selection import train_test_split\n",
    "import platform"
   ]
  },
  {
   "cell_type": "code",
   "execution_count": 3,
   "metadata": {},
   "outputs": [],
   "source": [
    "import numpy as np\n",
    "label_rotate = []\n",
    "data_rotate = []\n",
    "\n",
    "for agentX in range(1000):\n",
    "    print(\"p\")\n",
    "    for agentY in range(500):\n",
    "        print(\"pw\")\n",
    "        for targetX in range(1000):\n",
    "            print(\"pwa\")\n",
    "            for angle in range(-360,361):\n",
    "                print(\"pwad\")\n",
    "                for speed in  np.arange(0.0, 5.0,0.1):\n",
    "                    print(\"agentX - {} agentY - {} targetX - {} angle - {} speed - {:.1f}\".format(agentX, agentY, targetX, angle, speed), end='\\r')\n",
    "                    data_rotate.append([agentX,agentY,targetX,angle,speed])\n",
    "                    if  abs(agentX - targetX) < 20  and agentY < 60 and  (-5 <= angle <= 5) and speed < 2.0:\n",
    "                        label_rotate.append([0]) # Do nothing\n",
    "                    else:\n",
    "                        label_rotate.append([1]) # Turn On Engine"
   ]
  },
  {
   "cell_type": "code",
   "execution_count": null,
   "metadata": {},
   "outputs": [],
   "source": [
    "print(\"Total data :\",len(data_rotate))"
   ]
  },
  {
   "cell_type": "code",
   "execution_count": null,
   "metadata": {},
   "outputs": [],
   "source": [
    "\n",
    "X= data_rotate\n",
    "y= label_rotate\n",
    "# Dividir os dados em conjuntos de treinamento e teste\n",
    "X_train, X_test, y_train, y_test = train_test_split(X, y, test_size=0.2, random_state=42)\n",
    "\n",
    "print(X_train[0])"
   ]
  },
  {
   "cell_type": "code",
   "execution_count": null,
   "metadata": {},
   "outputs": [],
   "source": [
    "\n",
    "# Salvar os dados em um arquivo .pkl\n",
    "with open('../../datas/landing_data.pkl', 'wb') as f:\n",
    "    pickle.dump([X_train, y_train, X_test, y_test], f)"
   ]
  }
 ],
 "metadata": {
  "kernelspec": {
   "display_name": "tf",
   "language": "python",
   "name": "python3"
  },
  "language_info": {
   "codemirror_mode": {
    "name": "ipython",
    "version": 3
   },
   "file_extension": ".py",
   "mimetype": "text/x-python",
   "name": "python",
   "nbconvert_exporter": "python",
   "pygments_lexer": "ipython3",
   "version": "3.11.9"
  }
 },
 "nbformat": 4,
 "nbformat_minor": 2
}
