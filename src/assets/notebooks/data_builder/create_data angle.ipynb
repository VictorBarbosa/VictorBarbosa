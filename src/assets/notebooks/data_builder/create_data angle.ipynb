{
 "cells": [
  {
   "cell_type": "code",
   "execution_count": 6,
   "metadata": {},
   "outputs": [],
   "source": [
    "import datetime\n",
    "import pickle\n",
    "import numpy as np\n",
    "from sklearn.model_selection import train_test_split\n",
    "import platform"
   ]
  },
  {
   "cell_type": "code",
   "execution_count": 7,
   "metadata": {},
   "outputs": [
    {
     "name": "stdout",
     "output_type": "stream",
     "text": [
      "Total data : 2884\n"
     ]
    }
   ],
   "source": [
    "import numpy as np\n",
    "\n",
    "# Ações\n",
    "# 0 Nothing\n",
    "# 1 Girar para a Esquerda\n",
    "# 2 Girar para a Direita\n",
    "\n",
    "\n",
    "# Gerar os dados conforme especificado\n",
    "\n",
    "label_rotate = []\n",
    "data_rotate = []\n",
    "\n",
    "\n",
    "# Preencher as listas de dados conforme as condições especificadas\n",
    "\n",
    "for _ in range(4):\n",
    "    for angle in range(-360, 361):\n",
    "        if -360 <= angle <= -5:\n",
    "            data_rotate.append(angle)  # Girar para a Esquerda\n",
    "            label_rotate.append([2])  # Girar para a Esquerda\n",
    "        elif 5 <= angle <= 361:\n",
    "            data_rotate.append(angle)  # Girar para a Direita\n",
    "            label_rotate.append([1])  # Girar para a Direita\n",
    "        else :\n",
    "            data_rotate.append(angle)  # Nothing\n",
    "            label_rotate.append([0])     # Nothing\n",
    "print(\"Total data :\",len(data_rotate))"
   ]
  },
  {
   "cell_type": "code",
   "execution_count": 8,
   "metadata": {},
   "outputs": [],
   "source": [
    "\n",
    "X= data_rotate\n",
    "y= label_rotate\n",
    "# Dividir os dados em conjuntos de treinamento e teste\n",
    "X_train, X_test, y_train, y_test = train_test_split(X, y, test_size=0.2, random_state=42)"
   ]
  },
  {
   "cell_type": "code",
   "execution_count": 9,
   "metadata": {},
   "outputs": [],
   "source": [
    "os = platform.system()\n",
    "path = './angle_datas.pkl'\n",
    "    \n",
    "if os == 'Darwin':  # 'Darwin' é o nome do kernel do macOS\n",
    "    path = '../../datas/angle_datas.pkl'\n",
    "    \n",
    "\n",
    "# Salvar os dados em um arquivo .pkl\n",
    "with open(path, 'wb') as f:\n",
    "    pickle.dump([X_train, y_train, X_test, y_test], f)\n"
   ]
  },
  {
   "cell_type": "markdown",
   "metadata": {},
   "source": [
    "#### The command below is to copy from the docker container to local folder"
   ]
  },
  {
   "cell_type": "code",
   "execution_count": 10,
   "metadata": {},
   "outputs": [],
   "source": [
    "# !docker cp cool_spence:/tf/models/. /mnt/d/git/victorbarbosa/src/assets/models/"
   ]
  }
 ],
 "metadata": {
  "kernelspec": {
   "display_name": "Python 3 (ipykernel)",
   "language": "python",
   "name": "python3"
  },
  "language_info": {
   "codemirror_mode": {
    "name": "ipython",
    "version": 3
   },
   "file_extension": ".py",
   "mimetype": "text/x-python",
   "name": "python",
   "nbconvert_exporter": "python",
   "pygments_lexer": "ipython3",
   "version": "3.11.7"
  }
 },
 "nbformat": 4,
 "nbformat_minor": 2
}
