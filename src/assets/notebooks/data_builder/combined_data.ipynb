{
 "cells": [
  {
   "cell_type": "code",
   "execution_count": 18,
   "metadata": {},
   "outputs": [],
   "source": [
    "import datetime\n",
    "import pickle\n",
    "import numpy as np\n",
    "from sklearn.model_selection import train_test_split\n",
    "import platform"
   ]
  },
  {
   "cell_type": "code",
   "execution_count": 19,
   "metadata": {},
   "outputs": [],
   "source": [
    "import numpy as np\n",
    "5  # Engine Turn On\n",
    "4  # Go to Right\n",
    "3  # Go to Left\n",
    "2  # Girar para a Esquerda\n",
    "1  # Girar para a Direita\n",
    "0  # Nothing\n",
    "def generate_combined_data():\n",
    "    label_combined = []\n",
    "    data_combined = []\n",
    "\n",
    "    for _ in range(4):\n",
    "        for angle in range(-360, 361):\n",
    "            for targetX in range(0, 1201, 300):\n",
    "                for agentX in range(0, 1201, 300):\n",
    "                    for targetY in range(0, 1201, 300):\n",
    "                        for agentY in range(0, 1201, 300):\n",
    "                            data_combined.append([angle, targetX, agentX, targetY, agentY])\n",
    "\n",
    "                            if angle < -5:\n",
    "                                label_combined.append(2)  # Girar para a Esquerda\n",
    "                            elif angle > 5:\n",
    "                                label_combined.append(1)  # Girar para a Direita\n",
    "                            elif agentX < targetX:\n",
    "                                label_combined.append(4)  # Go to Right\n",
    "                            elif agentX >= targetX:\n",
    "                                label_combined.append(3)  # Go to Left\n",
    "                            elif agentY < targetY:\n",
    "                                label_combined.append(0)  # Nothing\n",
    "                            elif agentY >= targetY:\n",
    "                                label_combined.append(5)  # Engine Turn On\n",
    "                            else:\n",
    "                                label_combined.append(0)  # Nothing\n",
    "\n",
    "    return np.array(data_combined), np.array(label_combined)\n",
    "\n",
    "\n",
    "\n",
    "# Verificar o total de dados gerados\n",
    "# print(\"Total data:\", data_combined.shape)\n",
    "# print(\"Total labels:\", label_combined.shape)\n",
    "\n",
    "# # Definir o modelo\n",
    "# from tensorflow.keras.models import Sequential\n",
    "# from tensorflow.keras.layers import Dense\n",
    "\n",
    "# model = Sequential([\n",
    "#     Dense(64, activation='relu', input_shape=(5,)),  # 5 entradas\n",
    "#     Dense(64, activation='relu'),\n",
    "#     Dense(6, activation='softmax')  # A saída será de 6 classes\n",
    "# ])\n",
    "\n",
    "# # Compilar o modelo\n",
    "# model.compile(optimizer='adam', loss='sparse_categorical_crossentropy', metrics=['accuracy'])\n",
    "\n",
    "# # Treinar o modelo\n",
    "# model.fit(data_combined, label_combined, epochs=10, batch_size=3200)\n",
    "\n",
    "# # Salvar o modelo\n",
    "# model.save('./models/combined_model.keras')\n",
    "\n"
   ]
  },
  {
   "cell_type": "code",
   "execution_count": 20,
   "metadata": {},
   "outputs": [],
   "source": [
    "# Gerar os dados combinados\n",
    "data_combined, label_rotate = generate_combined_data()\n",
    "X= data_combined\n",
    "y= label_rotate\n",
    "# Dividir os dados em conjuntos de treinamento e teste\n",
    "X_train, X_test, y_train, y_test = train_test_split(X, y, test_size=0.2, random_state=42)"
   ]
  },
  {
   "cell_type": "code",
   "execution_count": 21,
   "metadata": {},
   "outputs": [],
   "source": [
    "os = platform.system()\n",
    "path = './combined_data.pkl'\n",
    "    \n",
    "if os == 'Darwin':  # 'Darwin' é o nome do kernel do macOS\n",
    "    path = '../../datas/combined_data.pkl'\n",
    "    \n",
    "\n",
    "# Salvar os dados em um arquivo .pkl\n",
    "with open(path, 'wb') as f:\n",
    "    pickle.dump([X_train, y_train, X_test, y_test], f)\n",
    "    \n",
    " "
   ]
  }
 ],
 "metadata": {
  "kernelspec": {
   "display_name": "Python 3 (ipykernel)",
   "language": "python",
   "name": "python3"
  },
  "language_info": {
   "codemirror_mode": {
    "name": "ipython",
    "version": 3
   },
   "file_extension": ".py",
   "mimetype": "text/x-python",
   "name": "python",
   "nbconvert_exporter": "python",
   "pygments_lexer": "ipython3",
   "version": "3.11.0rc1"
  }
 },
 "nbformat": 4,
 "nbformat_minor": 2
}
