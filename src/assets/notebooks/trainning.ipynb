{
 "cells": [
  {
   "cell_type": "code",
   "execution_count": null,
   "metadata": {},
   "outputs": [],
   "source": [
    "import numpy as np\n",
    "import tensorflow as tf\n",
    "from tensorflow.keras.models import Sequential\n",
    "from tensorflow.keras.layers import Dense\n",
    "from sklearn.model_selection import train_test_split\n",
    "from tensorflow.keras.callbacks import TensorBoard\n",
    "import datetime\n",
    "print('Versão do TensorFlow: ', tf.__version__)"
   ]
  },
  {
   "cell_type": "code",
   "execution_count": null,
   "metadata": {},
   "outputs": [],
   "source": [
    "tf.config.list_physical_devices()"
   ]
  },
  {
   "cell_type": "code",
   "execution_count": null,
   "metadata": {},
   "outputs": [],
   "source": [
    "# Carregar os dados do arquivo .pkl\n",
    "with open('./data.pkl', 'rb') as f:\n",
    "    X_train, y_train, X_test, y_test = pickle.load(f)"
   ]
  },
  {
   "cell_type": "code",
   "execution_count": null,
   "metadata": {},
   "outputs": [],
   "source": [
    "%load_ext tensorboard\n",
    "log_dir = \"logs/fit/\" + datetime.datetime.now().strftime(\"%Y%m%d-%H%M%S\")\n",
    "tensorboard_callback = TensorBoard(log_dir=log_dir, histogram_freq=1)\n",
    "\n",
    "# Construir o modelo\n",
    "model = tf.keras.Sequential([\n",
    "    tf.keras.layers.Dense(128, activation='relu', input_shape=(3,)),  # Ajustar a entrada para 3 features\n",
    "    tf.keras.layers.Dense(64, activation='relu'),  # Ajustar a entrada para 3 features\n",
    "    tf.keras.layers.Dense(32, activation='relu'),\n",
    "    tf.keras.layers.Dense(16, activation='relu'),\n",
    "    tf.keras.layers.Dense(5, activation='softmax')  # 5 saídas: 0, 1, 2, 3, 4\n",
    "])\n",
    "\n",
    "# Compilar o modelo\n",
    "model.compile(optimizer='adam', loss='sparse_categorical_crossentropy', metrics=['accuracy'])\n",
    "\n",
    "# Treinar o modelo\n",
    "model.fit(X_train, y_train, epochs=100, batch_size=32000, validation_split=0.2, callbacks=[tensorboard_callback])\n"
   ]
  },
  {
   "cell_type": "code",
   "execution_count": null,
   "metadata": {},
   "outputs": [],
   "source": [
    "# Avaliar o modelo\n",
    "loss, accuracy = model.evaluate(X_test, y_test)\n",
    "print(f'Model Accuracy: {accuracy * 100:.2f}%')"
   ]
  },
  {
   "cell_type": "code",
   "execution_count": null,
   "metadata": {},
   "outputs": [],
   "source": [
    "# 0 Nothing\n",
    "# 1 Go Left\n",
    "# 2 Go Right\n",
    "# 3 RoteteLeft\n",
    "# 4 RotateRight\n",
    "# 5 TurnOnEngine\n",
    "\n",
    "# GO TO RIGHT\n",
    "targetX = 680\n",
    "agentX = 340\n",
    "angle = 0\n",
    "class_names = ['Nothing', 'Go Left', 'Go Right',\n",
    "               'RoteteLeft', 'RotateRight', 'TurnOnEngine']\n",
    "predictions = model.predict(np.array([[targetX, agentX, angle]]))\n",
    " \n",
    "score = tf.nn.softmax(predictions[0])\n",
    "print(\n",
    "    \"{}-Must be GO TO RIGHT: {} - with a {:.2f} percent confidence.\"\n",
    "    .format(np.argmax(score),class_names[np.argmax(score)], 100 * np.max(score))\n",
    ")\n",
    "\n",
    "# GO TO LEFT\n",
    "targetX =340  \n",
    "agentX = 680\n",
    "angle = 0\n",
    "\n",
    "predictions = model.predict(np.array([[targetX, agentX, angle]]))\n",
    "score = tf.nn.softmax(predictions[0])\n",
    "print( \"{}-Must be GO TO LEFT: {} - with a {:.2f} percent confidence.\"\n",
    "    .format(np.argmax(score),class_names[np.argmax(score)], 100 * np.max(score))\n",
    ")\n",
    "\n",
    "# ROTATE LEFT\n",
    "targetX = 680\n",
    "agentX = 340\n",
    "angle = -30\n",
    "\n",
    "predictions = model.predict(np.array([[targetX, agentX, angle]]))\n",
    "score = tf.nn.softmax(predictions[0])\n",
    "print( \"{}-Must be ROTATE LEFT: {} - with a {:.2f} percent confidence.\"\n",
    "    .format(np.argmax(score),class_names[np.argmax(score)], 100 * np.max(score))\n",
    ")\n",
    "\n",
    "# ROTATE RIGHT\n",
    "targetX = 680\n",
    "agentX = 340\n",
    "angle = -30\n",
    "\n",
    "predictions = model.predict(np.array([[targetX, agentX, angle]]))\n",
    "score = tf.nn.softmax(predictions[0])\n",
    "print( \"{}-Must be ROTATE RIGHT: {} - with a {:.2f} percent confidence.\"\n",
    "    .format(np.argmax(score),class_names[np.argmax(score)], 100 * np.max(score))\n",
    ")\n",
    "\n"
   ]
  },
  {
   "cell_type": "code",
   "execution_count": null,
   "metadata": {},
   "outputs": [],
   "source": [
    "%tensorboard"
   ]
  },
  {
   "cell_type": "code",
   "execution_count": null,
   "metadata": {},
   "outputs": [],
   "source": [
    "model.save(\"./models/model_saved.h5\")\n",
    "model.save(filepath=\"./models/model_saved.keras\")\n",
    "\n",
    "\n",
    " "
   ]
  },
  {
   "cell_type": "markdown",
   "metadata": {},
   "source": [
    "### From here to you only MACOS to test "
   ]
  },
  {
   "cell_type": "code",
   "execution_count": null,
   "metadata": {},
   "outputs": [],
   "source": [
    "import tensorflow as tf\n",
    "import numpy as np\n",
    "model = tf.keras.models.load_model(\"./models/model_saved.keras\")\n",
    "\n",
    "targetX = 0\n",
    "agentX = 340\n",
    "angle =  30\n",
    "\n",
    "predictions = model.predict(np.array([[targetX, agentX, angle]]))\n",
    "# 0 Nothing\n",
    "# 1 Go Left\n",
    "# 2 Go Right\n",
    "# 3 RotateLeft\n",
    "# 4 RotateRight\n",
    "# 5 TurnOnEngine\n",
    "class_names = ['Nothing', 'Go Left', 'Go Right',\n",
    "               'RotateLeft', 'RotateRight', 'TurnOnEngine']\n",
    "\n",
    "score = tf.nn.softmax(predictions[0])\n",
    "print(\n",
    "    \"{} This image most likely belongs to {} with a {:.2f} percent confidence.\"\n",
    "    .format(np.argmax(score),class_names[np.argmax(score)], 100 * np.max(score))\n",
    ")"
   ]
  },
  {
   "cell_type": "code",
   "execution_count": null,
   "metadata": {},
   "outputs": [],
   "source": [
    "# !pip install tensorflowjs\n",
    "from tensorflow.keras.models import load_model\n",
    "import tensorflow as tf\n",
    "\n",
    "# Carregar o modelo do arquivo .h5\n",
    "model = load_model('./models/model_saved.h5')\n",
    "\n",
    "# Compile o modelo (você pode precisar ajustar a função de perda, otimizador e métricas conforme necessário)\n",
    "model.compile(optimizer='adam', loss='sparse_categorical_crossentropy', metrics=['accuracy'])\n",
    "\n",
    "# Salvar o modelo no formato SavedModel\n",
    "tf.saved_model.save(model, './models/saved_model/')\n",
    "\n",
    "!tensorflowjs_converter --input_format=tf_saved_model --output_format=tfjs_graph_model './models/saved_model/' models/web_model"
   ]
  }
 ],
 "metadata": {
  "language_info": {
   "name": "python"
  }
 },
 "nbformat": 4,
 "nbformat_minor": 2
}
