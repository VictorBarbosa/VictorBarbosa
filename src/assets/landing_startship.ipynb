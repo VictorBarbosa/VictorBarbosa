{
 "cells": [
  {
   "cell_type": "code",
   "execution_count": 37,
   "metadata": {},
   "outputs": [],
   "source": [
    "import numpy as np\n",
    "import tensorflow as tf\n",
    "from tensorflow.keras.models import Sequential\n",
    "from tensorflow.keras.layers import Dense\n",
    "from sklearn.model_selection import train_test_split\n",
    "from tensorflow.keras.callbacks import TensorBoard\n",
    "import datetime\n",
    "import pickle"
   ]
  },
  {
   "cell_type": "code",
   "execution_count": 38,
   "metadata": {},
   "outputs": [
    {
     "ename": "KeyboardInterrupt",
     "evalue": "",
     "output_type": "error",
     "traceback": [
      "\u001b[1;31m---------------------------------------------------------------------------\u001b[0m",
      "\u001b[1;31mKeyboardInterrupt\u001b[0m                         Traceback (most recent call last)",
      "Cell \u001b[1;32mIn[38], line 24\u001b[0m\n\u001b[0;32m     22\u001b[0m \u001b[38;5;28;01melse\u001b[39;00m:\n\u001b[0;32m     23\u001b[0m     \u001b[38;5;28;01mif\u001b[39;00m currentX \u001b[38;5;241m<\u001b[39m x:\n\u001b[1;32m---> 24\u001b[0m         data\u001b[38;5;241m.\u001b[39mappend([x, currentX, angle, \u001b[38;5;241m2\u001b[39m])  \u001b[38;5;66;03m# Go Right\u001b[39;00m\n\u001b[0;32m     25\u001b[0m     \u001b[38;5;28;01melse\u001b[39;00m:\n\u001b[0;32m     26\u001b[0m         data\u001b[38;5;241m.\u001b[39mappend([x, currentX, angle, \u001b[38;5;241m1\u001b[39m])  \u001b[38;5;66;03m# Go Left\u001b[39;00m\n",
      "\u001b[1;31mKeyboardInterrupt\u001b[0m: "
     ]
    }
   ],
   "source": [
    "# Gerar os dados conforme especificado\n",
    "data = []\n",
    "# Action\n",
    "# 0 Nothing\n",
    "# 1 Go Left \n",
    "# 2 Go Right\n",
    "# 3 RoteteLeft\n",
    "# 4 RotateRight\n",
    "# 5 TurnOnEngine\n",
    "\n",
    "# Gerar os dados conforme especificado\n",
    "data = []\n",
    "for x in range(900):\n",
    "    for currentX in range(900):\n",
    "        for angle in range(-180, 181):  # Adiciona o loop de ângulos\n",
    "            if -90 <= angle <= 90:\n",
    "                # data.append([x, currentX, angle, 0])  # Nothing\n",
    "                if angle < -90:\n",
    "                    data.append([x, currentX, angle, 3])  # RotateLeft\n",
    "                elif angle > 90:\n",
    "                    data.append([x, currentX, angle, 4])  # RotateRight\n",
    "            else:\n",
    "                if currentX < x:\n",
    "                    data.append([x, currentX, angle, 2])  # Go Right\n",
    "                else:\n",
    "                    data.append([x, currentX, angle, 1])  # Go Left\n",
    "\n",
    "\n",
    "# Converter os dados para um array NumPy e separar em features e labels\n",
    "data = np.array(data)\n",
    "X = data[:, :3]  # Features: x, currentX e angle\n",
    "y = data[:, 3]   # Labels: 0, 1, 2, 3 ou 4\n",
    "\n",
    "len(data)"
   ]
  },
  {
   "cell_type": "code",
   "execution_count": null,
   "metadata": {},
   "outputs": [],
   "source": [
    "\n",
    "# Dividir os dados em conjuntos de treinamento e teste\n",
    "X_train, X_test, y_train, y_test = train_test_split(X, y, test_size=0.2, random_state=42)\n",
    "\n"
   ]
  },
  {
   "cell_type": "code",
   "execution_count": null,
   "metadata": {},
   "outputs": [],
   "source": [
    "\n",
    "# Salvar os dados em um arquivo .pkl\n",
    "with open('data.pkl', 'wb') as f:\n",
    "    pickle.dump([X_train, y_train, X_test, y_test], f)"
   ]
  },
  {
   "cell_type": "code",
   "execution_count": null,
   "metadata": {},
   "outputs": [],
   "source": [
    "# Carregar os dados do arquivo .pkl\n",
    "with open('data.pkl', 'rb') as f:\n",
    "    X_train, y_train, X_test, y_test = pickle.load(f)"
   ]
  },
  {
   "cell_type": "code",
   "execution_count": null,
   "metadata": {},
   "outputs": [],
   "source": [
    "\n",
    "# Configurar o TensorBoard\n",
    "log_dir = \"logs/fit/\" + datetime.datetime.now().strftime(\"%Y%m%d-%H%M%S\")\n",
    "tensorboard_callback = TensorBoard(log_dir=log_dir, histogram_freq=1)\n"
   ]
  },
  {
   "cell_type": "code",
   "execution_count": null,
   "metadata": {},
   "outputs": [
    {
     "name": "stdout",
     "output_type": "stream",
     "text": [
      "The tensorboard extension is already loaded. To reload it, use:\n",
      "  %reload_ext tensorboard\n",
      "Epoch 1/100\n",
      "5670/5670 [==============================] - 44s 5ms/step - loss: 0.0249 - accuracy: 0.9980 - val_loss: 0.0010 - val_accuracy: 0.9995\n",
      "Epoch 2/100\n",
      "5670/5670 [==============================] - 26s 5ms/step - loss: 0.0016 - accuracy: 0.9994 - val_loss: 0.0020 - val_accuracy: 0.9991\n",
      "Epoch 3/100\n",
      "5670/5670 [==============================] - 27s 5ms/step - loss: 0.0012 - accuracy: 0.9996 - val_loss: 0.0012 - val_accuracy: 0.9994\n",
      "Epoch 4/100\n",
      "5670/5670 [==============================] - 27s 5ms/step - loss: 0.0011 - accuracy: 0.9997 - val_loss: 6.7590e-04 - val_accuracy: 0.9996\n",
      "Epoch 5/100\n",
      "5670/5670 [==============================] - 27s 5ms/step - loss: 9.1736e-04 - accuracy: 0.9997 - val_loss: 7.4283e-04 - val_accuracy: 0.9995\n",
      "Epoch 6/100\n",
      "5670/5670 [==============================] - 27s 5ms/step - loss: 8.6807e-04 - accuracy: 0.9998 - val_loss: 5.7394e-04 - val_accuracy: 1.0000\n",
      "Epoch 7/100\n",
      "5670/5670 [==============================] - 27s 5ms/step - loss: 8.4016e-04 - accuracy: 0.9998 - val_loss: 5.7461e-04 - val_accuracy: 0.9998\n",
      "Epoch 8/100\n",
      "5670/5670 [==============================] - 27s 5ms/step - loss: 7.8133e-04 - accuracy: 0.9998 - val_loss: 6.4957e-04 - val_accuracy: 0.9997\n",
      "Epoch 9/100\n",
      "5670/5670 [==============================] - 27s 5ms/step - loss: 2.8314e-04 - accuracy: 0.9999 - val_loss: 4.6657e-07 - val_accuracy: 1.0000\n",
      "Epoch 10/100\n",
      "5670/5670 [==============================] - 27s 5ms/step - loss: 1.1454e-07 - accuracy: 1.0000 - val_loss: 1.0419e-08 - val_accuracy: 1.0000\n",
      "Epoch 11/100\n",
      "5670/5670 [==============================] - 27s 5ms/step - loss: 3.4192e-09 - accuracy: 1.0000 - val_loss: 5.4547e-10 - val_accuracy: 1.0000\n",
      "Epoch 12/100\n",
      "5670/5670 [==============================] - 28s 5ms/step - loss: 1.9773e-10 - accuracy: 1.0000 - val_loss: 7.7305e-11 - val_accuracy: 1.0000\n",
      "Epoch 13/100\n",
      "5670/5670 [==============================] - 27s 5ms/step - loss: 0.0023 - accuracy: 0.9999 - val_loss: 1.3339e-06 - val_accuracy: 1.0000\n",
      "Epoch 14/100\n",
      "5670/5670 [==============================] - 26s 5ms/step - loss: 2.4304e-07 - accuracy: 1.0000 - val_loss: 6.5864e-09 - val_accuracy: 1.0000\n",
      "Epoch 15/100\n",
      "5670/5670 [==============================] - 27s 5ms/step - loss: 0.0015 - accuracy: 0.9998 - val_loss: 2.0987e-04 - val_accuracy: 1.0000\n",
      "Epoch 16/100\n",
      "5670/5670 [==============================] - 28s 5ms/step - loss: 4.1570e-04 - accuracy: 0.9999 - val_loss: 1.8702e-06 - val_accuracy: 1.0000\n",
      "Epoch 17/100\n",
      "5670/5670 [==============================] - 28s 5ms/step - loss: 0.0012 - accuracy: 0.9999 - val_loss: 5.3367e-06 - val_accuracy: 1.0000\n",
      "Epoch 18/100\n",
      "5670/5670 [==============================] - 28s 5ms/step - loss: 8.3860e-07 - accuracy: 1.0000 - val_loss: 3.8018e-08 - val_accuracy: 1.0000\n",
      "Epoch 19/100\n",
      "5670/5670 [==============================] - 27s 5ms/step - loss: 0.0029 - accuracy: 0.9998 - val_loss: 9.1487e-05 - val_accuracy: 1.0000\n",
      "Epoch 20/100\n",
      "5670/5670 [==============================] - 27s 5ms/step - loss: 5.2642e-06 - accuracy: 1.0000 - val_loss: 1.1717e-07 - val_accuracy: 1.0000\n",
      "Epoch 21/100\n",
      "5670/5670 [==============================] - 27s 5ms/step - loss: 3.0802e-08 - accuracy: 1.0000 - val_loss: 4.3594e-09 - val_accuracy: 1.0000\n",
      "Epoch 22/100\n",
      "5670/5670 [==============================] - 27s 5ms/step - loss: 0.0033 - accuracy: 0.9999 - val_loss: 5.3810e-07 - val_accuracy: 1.0000\n",
      "Epoch 23/100\n",
      "5670/5670 [==============================] - 27s 5ms/step - loss: 0.0011 - accuracy: 0.9997 - val_loss: 4.7582e-07 - val_accuracy: 1.0000\n",
      "Epoch 24/100\n",
      "5670/5670 [==============================] - 27s 5ms/step - loss: 1.5749e-07 - accuracy: 1.0000 - val_loss: 2.2904e-08 - val_accuracy: 1.0000\n",
      "Epoch 25/100\n",
      "5670/5670 [==============================] - 27s 5ms/step - loss: 8.9055e-09 - accuracy: 1.0000 - val_loss: 1.8715e-09 - val_accuracy: 1.0000\n",
      "Epoch 26/100\n",
      "5670/5670 [==============================] - 27s 5ms/step - loss: 0.0012 - accuracy: 0.9999 - val_loss: 2.1382e-07 - val_accuracy: 1.0000\n",
      "Epoch 27/100\n",
      "5670/5670 [==============================] - 27s 5ms/step - loss: 5.6825e-08 - accuracy: 1.0000 - val_loss: 5.8667e-09 - val_accuracy: 1.0000\n",
      "Epoch 28/100\n",
      "5670/5670 [==============================] - 27s 5ms/step - loss: 1.2359e-09 - accuracy: 1.0000 - val_loss: 2.4086e-10 - val_accuracy: 1.0000\n",
      "Epoch 29/100\n",
      "5670/5670 [==============================] - 27s 5ms/step - loss: 1.4682e-10 - accuracy: 1.0000 - val_loss: 6.9407e-11 - val_accuracy: 1.0000\n",
      "Epoch 30/100\n",
      "5670/5670 [==============================] - 26s 5ms/step - loss: 0.0039 - accuracy: 0.9999 - val_loss: 3.1421e-06 - val_accuracy: 1.0000\n",
      "Epoch 31/100\n",
      "5670/5670 [==============================] - 27s 5ms/step - loss: 3.7730e-07 - accuracy: 1.0000 - val_loss: 7.3449e-09 - val_accuracy: 1.0000\n",
      "Epoch 32/100\n",
      "5670/5670 [==============================] - 27s 5ms/step - loss: 2.1333e-09 - accuracy: 1.0000 - val_loss: 3.8870e-10 - val_accuracy: 1.0000\n",
      "Epoch 33/100\n",
      "5670/5670 [==============================] - 27s 5ms/step - loss: 2.4169e-10 - accuracy: 1.0000 - val_loss: 1.3595e-10 - val_accuracy: 1.0000\n",
      "Epoch 34/100\n",
      "5670/5670 [==============================] - 27s 5ms/step - loss: 1.1507e-10 - accuracy: 1.0000 - val_loss: 6.6925e-11 - val_accuracy: 1.0000\n",
      "Epoch 35/100\n",
      "5670/5670 [==============================] - 27s 5ms/step - loss: 0.0037 - accuracy: 0.9998 - val_loss: 8.6458e-07 - val_accuracy: 1.0000\n",
      "Epoch 36/100\n",
      "5670/5670 [==============================] - 27s 5ms/step - loss: 0.0011 - accuracy: 0.9999 - val_loss: 4.2051e-05 - val_accuracy: 1.0000\n",
      "Epoch 37/100\n",
      "5670/5670 [==============================] - 27s 5ms/step - loss: 4.0941e-04 - accuracy: 0.9999 - val_loss: 8.9091e-05 - val_accuracy: 1.0000\n",
      "Epoch 38/100\n",
      "5670/5670 [==============================] - 27s 5ms/step - loss: 5.9923e-05 - accuracy: 1.0000 - val_loss: 1.3702e-08 - val_accuracy: 1.0000\n",
      "Epoch 39/100\n",
      "5670/5670 [==============================] - 27s 5ms/step - loss: 4.1249e-09 - accuracy: 1.0000 - val_loss: 7.9392e-10 - val_accuracy: 1.0000\n",
      "Epoch 40/100\n",
      "5670/5670 [==============================] - 27s 5ms/step - loss: 3.2896e-10 - accuracy: 1.0000 - val_loss: 1.3079e-10 - val_accuracy: 1.0000\n",
      "Epoch 41/100\n",
      "5670/5670 [==============================] - 27s 5ms/step - loss: 0.0065 - accuracy: 0.9999 - val_loss: 0.0112 - val_accuracy: 0.9976\n",
      "Epoch 42/100\n",
      "5670/5670 [==============================] - 27s 5ms/step - loss: 4.1571e-04 - accuracy: 1.0000 - val_loss: 3.2675e-04 - val_accuracy: 1.0000\n",
      "Epoch 43/100\n",
      "5670/5670 [==============================] - 27s 5ms/step - loss: 3.5000e-04 - accuracy: 0.9999 - val_loss: 3.4084e-05 - val_accuracy: 1.0000\n",
      "Epoch 44/100\n",
      "5670/5670 [==============================] - 27s 5ms/step - loss: 5.0256e-04 - accuracy: 0.9999 - val_loss: 1.4110e-05 - val_accuracy: 1.0000\n",
      "Epoch 45/100\n",
      "5670/5670 [==============================] - 27s 5ms/step - loss: 0.0014 - accuracy: 0.9999 - val_loss: 3.9656e-06 - val_accuracy: 1.0000\n",
      "Epoch 46/100\n",
      "5670/5670 [==============================] - 26s 5ms/step - loss: 0.0011 - accuracy: 0.9999 - val_loss: 4.5358e-07 - val_accuracy: 1.0000\n",
      "Epoch 47/100\n",
      "5670/5670 [==============================] - 27s 5ms/step - loss: 1.7539e-07 - accuracy: 1.0000 - val_loss: 3.4845e-08 - val_accuracy: 1.0000\n",
      "Epoch 48/100\n",
      "5670/5670 [==============================] - 27s 5ms/step - loss: 6.4220e-09 - accuracy: 1.0000 - val_loss: 8.6380e-10 - val_accuracy: 1.0000\n",
      "Epoch 49/100\n",
      "5670/5670 [==============================] - 27s 5ms/step - loss: 0.0010 - accuracy: 1.0000 - val_loss: 1.6659e-06 - val_accuracy: 1.0000\n",
      "Epoch 50/100\n",
      "5670/5670 [==============================] - 27s 5ms/step - loss: 0.0014 - accuracy: 0.9998 - val_loss: 2.2732e-05 - val_accuracy: 1.0000\n",
      "Epoch 51/100\n",
      "5670/5670 [==============================] - 27s 5ms/step - loss: 7.5293e-04 - accuracy: 0.9999 - val_loss: 0.0017 - val_accuracy: 0.9995\n",
      "Epoch 52/100\n",
      "5670/5670 [==============================] - 27s 5ms/step - loss: 0.0015 - accuracy: 0.9997 - val_loss: 0.0027 - val_accuracy: 0.9992\n",
      "Epoch 53/100\n",
      "5670/5670 [==============================] - 27s 5ms/step - loss: 3.3121e-05 - accuracy: 1.0000 - val_loss: 3.8906e-08 - val_accuracy: 1.0000\n",
      "Epoch 54/100\n",
      "5670/5670 [==============================] - 27s 5ms/step - loss: 1.2530e-08 - accuracy: 1.0000 - val_loss: 2.0646e-09 - val_accuracy: 1.0000\n",
      "Epoch 55/100\n",
      "5670/5670 [==============================] - 27s 5ms/step - loss: 0.0053 - accuracy: 0.9998 - val_loss: 3.4373e-07 - val_accuracy: 1.0000\n",
      "Epoch 56/100\n",
      "5670/5670 [==============================] - 27s 5ms/step - loss: 5.2404e-08 - accuracy: 1.0000 - val_loss: 4.0834e-09 - val_accuracy: 1.0000\n",
      "Epoch 57/100\n",
      "5670/5670 [==============================] - 27s 5ms/step - loss: 0.0028 - accuracy: 0.9998 - val_loss: 8.7169e-06 - val_accuracy: 1.0000\n",
      "Epoch 58/100\n",
      "5670/5670 [==============================] - 27s 5ms/step - loss: 0.0011 - accuracy: 0.9999 - val_loss: 0.0013 - val_accuracy: 0.9993\n",
      "Epoch 59/100\n",
      "5670/5670 [==============================] - 27s 5ms/step - loss: 4.2413e-05 - accuracy: 1.0000 - val_loss: 6.3072e-08 - val_accuracy: 1.0000\n",
      "Epoch 60/100\n",
      "5670/5670 [==============================] - 27s 5ms/step - loss: 2.2555e-08 - accuracy: 1.0000 - val_loss: 4.8620e-09 - val_accuracy: 1.0000\n",
      "Epoch 61/100\n",
      "5670/5670 [==============================] - 27s 5ms/step - loss: 1.8011e-09 - accuracy: 1.0000 - val_loss: 4.6047e-10 - val_accuracy: 1.0000\n",
      "Epoch 62/100\n",
      "5670/5670 [==============================] - 27s 5ms/step - loss: 0.0011 - accuracy: 1.0000 - val_loss: 1.5845e-06 - val_accuracy: 1.0000\n",
      "Epoch 63/100\n",
      "5670/5670 [==============================] - 27s 5ms/step - loss: 7.2266e-07 - accuracy: 1.0000 - val_loss: 1.1568e-07 - val_accuracy: 1.0000\n",
      "Epoch 64/100\n",
      "5670/5670 [==============================] - 27s 5ms/step - loss: 3.0455e-08 - accuracy: 1.0000 - val_loss: 2.2989e-10 - val_accuracy: 1.0000\n",
      "Epoch 65/100\n",
      "5670/5670 [==============================] - 27s 5ms/step - loss: 1.0374e-10 - accuracy: 1.0000 - val_loss: 4.5505e-11 - val_accuracy: 1.0000\n",
      "Epoch 66/100\n",
      "5670/5670 [==============================] - 27s 5ms/step - loss: 0.0016 - accuracy: 1.0000 - val_loss: 4.6910e-07 - val_accuracy: 1.0000\n",
      "Epoch 67/100\n",
      "5670/5670 [==============================] - 27s 5ms/step - loss: 3.1108e-04 - accuracy: 1.0000 - val_loss: 8.3439e-07 - val_accuracy: 1.0000\n",
      "Epoch 68/100\n",
      "5670/5670 [==============================] - 27s 5ms/step - loss: 2.3667e-07 - accuracy: 1.0000 - val_loss: 3.0451e-08 - val_accuracy: 1.0000\n",
      "Epoch 69/100\n",
      "5670/5670 [==============================] - 27s 5ms/step - loss: 0.0011 - accuracy: 0.9999 - val_loss: 7.9615e-09 - val_accuracy: 1.0000\n",
      "Epoch 70/100\n",
      "5670/5670 [==============================] - 27s 5ms/step - loss: 2.4153e-09 - accuracy: 1.0000 - val_loss: 7.6379e-10 - val_accuracy: 1.0000\n",
      "Epoch 71/100\n",
      "5670/5670 [==============================] - 27s 5ms/step - loss: 0.0011 - accuracy: 0.9999 - val_loss: 7.4553e-08 - val_accuracy: 1.0000\n",
      "Epoch 72/100\n",
      "5670/5670 [==============================] - 27s 5ms/step - loss: 2.0794e-08 - accuracy: 1.0000 - val_loss: 9.0825e-10 - val_accuracy: 1.0000\n",
      "Epoch 73/100\n",
      "5670/5670 [==============================] - 27s 5ms/step - loss: 4.4073e-10 - accuracy: 1.0000 - val_loss: 2.7181e-10 - val_accuracy: 1.0000\n",
      "Epoch 74/100\n",
      "5670/5670 [==============================] - 27s 5ms/step - loss: 1.8457e-10 - accuracy: 1.0000 - val_loss: 1.1086e-10 - val_accuracy: 1.0000\n",
      "Epoch 75/100\n",
      "5670/5670 [==============================] - 27s 5ms/step - loss: 4.2253e-04 - accuracy: 1.0000 - val_loss: 1.3352e-07 - val_accuracy: 1.0000\n",
      "Epoch 76/100\n",
      "5670/5670 [==============================] - 27s 5ms/step - loss: 3.9153e-08 - accuracy: 1.0000 - val_loss: 1.8019e-09 - val_accuracy: 1.0000\n",
      "Epoch 77/100\n",
      "5670/5670 [==============================] - 27s 5ms/step - loss: 9.2835e-10 - accuracy: 1.0000 - val_loss: 3.8694e-10 - val_accuracy: 1.0000\n",
      "Epoch 78/100\n",
      "5670/5670 [==============================] - 27s 5ms/step - loss: 2.3001e-10 - accuracy: 1.0000 - val_loss: 1.4560e-10 - val_accuracy: 1.0000\n",
      "Epoch 79/100\n",
      "5670/5670 [==============================] - 28s 5ms/step - loss: 0.0026 - accuracy: 0.9999 - val_loss: 1.0293e-05 - val_accuracy: 1.0000\n",
      "Epoch 80/100\n",
      "5670/5670 [==============================] - 27s 5ms/step - loss: 1.8362e-06 - accuracy: 1.0000 - val_loss: 1.3559e-09 - val_accuracy: 1.0000\n",
      "Epoch 81/100\n",
      "5670/5670 [==============================] - 27s 5ms/step - loss: 5.3035e-10 - accuracy: 1.0000 - val_loss: 1.9714e-10 - val_accuracy: 1.0000\n",
      "Epoch 82/100\n",
      "5670/5670 [==============================] - 27s 5ms/step - loss: 0.0016 - accuracy: 0.9999 - val_loss: 1.1832e-04 - val_accuracy: 1.0000\n",
      "Epoch 83/100\n",
      "5670/5670 [==============================] - 28s 5ms/step - loss: 3.6522e-04 - accuracy: 0.9999 - val_loss: 2.2436e-05 - val_accuracy: 1.0000\n",
      "Epoch 84/100\n",
      "5670/5670 [==============================] - 27s 5ms/step - loss: 2.2171e-04 - accuracy: 1.0000 - val_loss: 3.5474e-06 - val_accuracy: 1.0000\n",
      "Epoch 85/100\n",
      "5670/5670 [==============================] - 27s 5ms/step - loss: 5.4551e-04 - accuracy: 0.9999 - val_loss: 3.3049e-07 - val_accuracy: 1.0000\n",
      "Epoch 86/100\n",
      "5670/5670 [==============================] - 26s 5ms/step - loss: 7.8324e-04 - accuracy: 0.9999 - val_loss: 1.4515e-06 - val_accuracy: 1.0000\n",
      "Epoch 87/100\n",
      "5670/5670 [==============================] - 26s 5ms/step - loss: 6.3130e-04 - accuracy: 0.9999 - val_loss: 2.0290e-04 - val_accuracy: 1.0000\n",
      "Epoch 88/100\n",
      "5670/5670 [==============================] - 26s 5ms/step - loss: 3.4003e-04 - accuracy: 0.9999 - val_loss: 3.7582e-06 - val_accuracy: 1.0000\n",
      "Epoch 89/100\n",
      "5670/5670 [==============================] - 26s 5ms/step - loss: 8.7958e-07 - accuracy: 1.0000 - val_loss: 8.6659e-09 - val_accuracy: 1.0000\n",
      "Epoch 90/100\n",
      "5670/5670 [==============================] - 26s 5ms/step - loss: 2.8364e-09 - accuracy: 1.0000 - val_loss: 7.5434e-10 - val_accuracy: 1.0000\n",
      "Epoch 91/100\n",
      "5670/5670 [==============================] - 26s 5ms/step - loss: 0.0011 - accuracy: 0.9999 - val_loss: 2.5564e-06 - val_accuracy: 1.0000\n",
      "Epoch 92/100\n",
      "5670/5670 [==============================] - 25s 4ms/step - loss: 4.7995e-07 - accuracy: 1.0000 - val_loss: 1.0211e-07 - val_accuracy: 1.0000\n",
      "Epoch 93/100\n",
      "5670/5670 [==============================] - 25s 4ms/step - loss: 3.1944e-08 - accuracy: 1.0000 - val_loss: 9.9831e-10 - val_accuracy: 1.0000\n",
      "Epoch 94/100\n",
      "5670/5670 [==============================] - 26s 5ms/step - loss: 3.1009e-10 - accuracy: 1.0000 - val_loss: 8.2563e-11 - val_accuracy: 1.0000\n",
      "Epoch 95/100\n",
      "5670/5670 [==============================] - 27s 5ms/step - loss: 0.0012 - accuracy: 1.0000 - val_loss: 5.6439e-07 - val_accuracy: 1.0000\n",
      "Epoch 96/100\n",
      "5670/5670 [==============================] - 27s 5ms/step - loss: 1.6098e-07 - accuracy: 1.0000 - val_loss: 2.3613e-08 - val_accuracy: 1.0000\n",
      "Epoch 97/100\n",
      "5670/5670 [==============================] - 27s 5ms/step - loss: 3.4611e-04 - accuracy: 1.0000 - val_loss: 3.1105e-08 - val_accuracy: 1.0000\n",
      "Epoch 98/100\n",
      "5670/5670 [==============================] - 27s 5ms/step - loss: 9.6630e-09 - accuracy: 1.0000 - val_loss: 1.8671e-09 - val_accuracy: 1.0000\n",
      "Epoch 99/100\n",
      "5670/5670 [==============================] - 26s 5ms/step - loss: 6.9691e-10 - accuracy: 1.0000 - val_loss: 1.7866e-10 - val_accuracy: 1.0000\n",
      "Epoch 100/100\n",
      "5670/5670 [==============================] - 26s 5ms/step - loss: 4.5981e-04 - accuracy: 1.0000 - val_loss: 8.9716e-08 - val_accuracy: 1.0000\n"
     ]
    },
    {
     "data": {
      "text/plain": [
       "<keras.callbacks.History at 0x1ea290bf4c0>"
      ]
     },
     "execution_count": 24,
     "metadata": {},
     "output_type": "execute_result"
    }
   ],
   "source": [
    "%load_ext tensorboard\n",
    "log_dir = \"logs/fit/\" + datetime.datetime.now().strftime(\"%Y%m%d-%H%M%S\")\n",
    "tensorboard_callback = TensorBoard(log_dir=log_dir, histogram_freq=1)\n",
    "\n",
    "# Construir o modelo\n",
    "model = tf.keras.Sequential([\n",
    "    tf.keras.layers.Dense(128, activation='relu', input_shape=(3,)),  # Ajustar a entrada para 3 features\n",
    "    tf.keras.layers.Dense(64, activation='relu'),  # Ajustar a entrada para 3 features\n",
    "    tf.keras.layers.Dense(32, activation='relu'),\n",
    "    tf.keras.layers.Dense(16, activation='relu'),\n",
    "    tf.keras.layers.Dense(5, activation='softmax')  # 5 saídas: 0, 1, 2, 3, 4\n",
    "])\n",
    "\n",
    "# Compilar o modelo\n",
    "model.compile(optimizer='adam', loss='sparse_categorical_crossentropy', metrics=['accuracy'])\n",
    "\n",
    "# Treinar o modelo\n",
    "model.fit(X_train, y_train, epochs=100, batch_size=32000, validation_split=0.2, callbacks=[tensorboard_callback])\n"
   ]
  },
  {
   "cell_type": "code",
   "execution_count": null,
   "metadata": {},
   "outputs": [
    {
     "name": "stdout",
     "output_type": "stream",
     "text": [
      "1771875/1771875 [==============================] - 5897s 3ms/step - loss: 9.0099e-08 - accuracy: 1.0000\n",
      "Model Accuracy: 100.00%\n",
      "1771875/1771875 [==============================] - 2982s 2ms/step\n"
     ]
    }
   ],
   "source": [
    "\n",
    "# Avaliar o modelo\n",
    "loss, accuracy = model.evaluate(X_test, y_test)\n",
    "print(f'Model Accuracy: {accuracy * 100:.2f}%')\n",
    "\n",
    "# Fazer previsões (opcional)\n",
    "predictions = model.predict(X_test)"
   ]
  },
  {
   "cell_type": "code",
   "execution_count": null,
   "metadata": {},
   "outputs": [
    {
     "data": {
      "text/plain": [
       "ERROR: Failed to launch TensorBoard (exited with 1).\n",
       "Contents of stderr:\n",
       "Error: A logdir or db must be specified. For example `tensorboard --logdir mylogdir` or `tensorboard --db sqlite:~/.tensorboard.db`. Run `tensorboard --helpfull` for details and examples."
      ]
     },
     "metadata": {},
     "output_type": "display_data"
    }
   ],
   "source": [
    "%tensorboard"
   ]
  },
  {
   "cell_type": "code",
   "execution_count": null,
   "metadata": {},
   "outputs": [
    {
     "ename": "SyntaxError",
     "evalue": "invalid syntax (1265863735.py, line 1)",
     "output_type": "error",
     "traceback": [
      "\u001b[1;36m  Cell \u001b[1;32mIn[27], line 1\u001b[1;36m\u001b[0m\n\u001b[1;33m    x__training,x__test,y__training,y__test=train_test_split(x_,y_,test_size=.percent,random_state=0)\u001b[0m\n\u001b[1;37m                                                                             ^\u001b[0m\n\u001b[1;31mSyntaxError\u001b[0m\u001b[1;31m:\u001b[0m invalid syntax\n"
     ]
    }
   ],
   "source": [
    "x__training,x__test,y__training,y__test=train_test_split(x_,y_,test_size=.percent,random_state=0)\n",
    "with open('.pkl',mode='wb') as f:\n",
    "     pickle.dump([x__training,y__training,x__test,y__test],f)"
   ]
  },
  {
   "cell_type": "code",
   "execution_count": null,
   "metadata": {},
   "outputs": [
    {
     "name": "stdout",
     "output_type": "stream",
     "text": [
      "Requirement already satisfied: keras in c:\\users\\admin\\anaconda3\\envs\\tf\\lib\\site-packages (2.15.0)\n"
     ]
    }
   ],
   "source": [
    "model.save(\"./models/model_saved.h5\")\n",
    "model.save(\"./models/model_saved\")\n",
    " \n",
    " "
   ]
  },
  {
   "cell_type": "code",
   "execution_count": null,
   "metadata": {},
   "outputs": [
    {
     "name": "stdout",
     "output_type": "stream",
     "text": [
      "1/1 [==============================] - 0s 76ms/step\n",
      "This image most likely belongs to Go Left with a 40.46 percent confidence.\n"
     ]
    }
   ],
   "source": [
    "import tensorflow as tf\n",
    "import numpy as np\n",
    "model = tf.keras.models.load_model(\"./model_saved\")\n",
    "\n",
    "targetX = 0\n",
    "agentX = 0\n",
    "angle = -2\n",
    "\n",
    "predictions = model.predict([[targetX, agentX, angle]])\n",
    "# 0 Nothing\n",
    "# 1 Go Left\n",
    "# 2 Go Right\n",
    "# 3 RoteteLeft\n",
    "# 4 RotateRight\n",
    "# 5 TurnOnEngine\n",
    "class_names = ['Nothing', 'Go Left', 'Go Right',\n",
    "               'RoteteLeft', 'RotateRight', 'TurnOnEngine']\n",
    "\n",
    "score = tf.nn.softmax(predictions[0])\n",
    "print(\n",
    "    \"This image most likely belongs to {} with a {:.2f} percent confidence.\"\n",
    "    .format(class_names[np.argmax(score)], 100 * np.max(score))\n",
    ")"
   ]
  },
  {
   "cell_type": "code",
   "execution_count": null,
   "metadata": {},
   "outputs": [
    {
     "name": "stderr",
     "output_type": "stream",
     "text": [
      "'tensorflowjs_converter' n�o � reconhecido como um comando interno\n",
      "ou externo, um programa oper�vel ou um arquivo em lotes.\n"
     ]
    }
   ],
   "source": [
    "!tensorflowjs_converter --input_format=tf_saved_model --output_format=tfjs_graph_model model_saved web_model"
   ]
  }
 ],
 "metadata": {
  "kernelspec": {
   "display_name": "base",
   "language": "python",
   "name": "python3"
  },
  "language_info": {
   "codemirror_mode": {
    "name": "ipython",
    "version": 3
   },
   "file_extension": ".py",
   "mimetype": "text/x-python",
   "name": "python",
   "nbconvert_exporter": "python",
   "pygments_lexer": "ipython3",
   "version": "3.9.19"
  }
 },
 "nbformat": 4,
 "nbformat_minor": 2
}
