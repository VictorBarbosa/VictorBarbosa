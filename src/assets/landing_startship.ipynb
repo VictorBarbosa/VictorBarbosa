{
 "cells": [
  {
   "cell_type": "code",
   "execution_count": 11,
   "metadata": {},
   "outputs": [],
   "source": [
    "import numpy as np\n",
    "import tensorflow as tf\n",
    "from tensorflow.keras.models import Sequential\n",
    "from tensorflow.keras.layers import Dense\n",
    "from sklearn.model_selection import train_test_split\n",
    "from tensorflow.keras.callbacks import TensorBoard\n",
    "import datetime\n",
    "import pickle"
   ]
  },
  {
   "cell_type": "code",
   "execution_count": null,
   "metadata": {},
   "outputs": [],
   "source": [
    "# Action\n",
    "# 0 Nothing\n",
    "# 1 Go Left \n",
    "# 2 Go Right\n",
    "# 3 RoteteLeft\n",
    "# 4 RotateRight\n",
    "# 5 TurnOnEngine\n",
    "\n",
    "# Gerar os dados conforme especificado\n",
    "data = []\n",
    "for x in range(900):\n",
    "    for currentX in range(900):\n",
    "        for angle in range(-180, 181):  # Adiciona o loop de ângulos\n",
    "            if -5 <= angle <= 5:\n",
    "                data.append([x, currentX, angle, 0])  # Nothing\n",
    "            else:\n",
    "                if currentX < x:\n",
    "                    data.append([x, currentX, angle, 2])  # Go Right\n",
    "                else:\n",
    "                    data.append([x, currentX, angle, 1])  # Go Left\n",
    "                if angle < -5:\n",
    "                    data.append([x, currentX, angle, 3])  # RotateLeft\n",
    "                elif angle > 5:\n",
    "                    data.append([x, currentX, angle, 4])  # RotateRight\n",
    "\n",
    "# Converter os dados para um array NumPy e separar em features e labels\n",
    "data = np.array(data)\n",
    "X = data[:, :3]  # Features: x, currentX e angle\n",
    "y = data[:, 3]   # Labels: 0, 1, 2, 3 ou 4\n",
    " "
   ]
  },
  {
   "cell_type": "code",
   "execution_count": 12,
   "metadata": {},
   "outputs": [],
   "source": [
    "\n",
    "# Dividir os dados em conjuntos de treinamento e teste\n",
    "X_train, X_test, y_train, y_test = train_test_split(X, y, test_size=0.2, random_state=42)\n",
    "\n"
   ]
  },
  {
   "cell_type": "code",
   "execution_count": 13,
   "metadata": {},
   "outputs": [],
   "source": [
    "\n",
    "# Salvar os dados em um arquivo .pkl\n",
    "with open('data.pkl', 'wb') as f:\n",
    "    pickle.dump([X_train, y_train, X_test, y_test], f)"
   ]
  },
  {
   "cell_type": "code",
   "execution_count": 14,
   "metadata": {},
   "outputs": [],
   "source": [
    "# Carregar os dados do arquivo .pkl\n",
    "with open('data.pkl', 'rb') as f:\n",
    "    X_train, y_train, X_test, y_test = pickle.load(f)"
   ]
  },
  {
   "cell_type": "code",
   "execution_count": 15,
   "metadata": {},
   "outputs": [],
   "source": [
    "\n",
    "# Configurar o TensorBoard\n",
    "log_dir = \"logs/fit/\" + datetime.datetime.now().strftime(\"%Y%m%d-%H%M%S\")\n",
    "tensorboard_callback = TensorBoard(log_dir=log_dir, histogram_freq=1)\n"
   ]
  },
  {
   "cell_type": "code",
   "execution_count": 16,
   "metadata": {},
   "outputs": [],
   "source": [
    "\n",
    "\n",
    "# Construir o modelo\n",
    "model = tf.keras.Sequential([\n",
    "    tf.keras.layers.Dense(64, activation='relu', input_shape=(3,)),  # Ajustar a entrada para 3 features\n",
    "    tf.keras.layers.Dense(32, activation='relu'),\n",
    "    tf.keras.layers.Dense(16, activation='relu'),\n",
    "    tf.keras.layers.Dense(5, activation='softmax')  # 5 saídas: 0, 1, 2, 3, 4\n",
    "])"
   ]
  },
  {
   "cell_type": "code",
   "execution_count": 17,
   "metadata": {},
   "outputs": [
    {
     "name": "stdout",
     "output_type": "stream",
     "text": [
      "The tensorboard extension is already loaded. To reload it, use:\n",
      "  %reload_ext tensorboard\n",
      "Epoch 1/10\n",
      "\u001b[1m  765607/11518200\u001b[0m \u001b[32m━\u001b[0m\u001b[37m━━━━━━━━━━━━━━━━━━━\u001b[0m \u001b[1m1:03:02\u001b[0m 352us/step - accuracy: 0.5036 - loss: 0.7300"
     ]
    }
   ],
   "source": [
    "%load_ext tensorboard\n",
    "log_dir = \"logs/fit/\" + datetime.datetime.now().strftime(\"%Y%m%d-%H%M%S\")\n",
    "tensorboard_callback = TensorBoard(log_dir=log_dir, histogram_freq=1)\n",
    "\n",
    "# Construir o modelo\n",
    "model = tf.keras.Sequential([\n",
    "    tf.keras.layers.Dense(64, activation='relu', input_shape=(3,)),  # Ajustar a entrada para 3 features\n",
    "    tf.keras.layers.Dense(32, activation='relu'),\n",
    "    tf.keras.layers.Dense(16, activation='relu'),\n",
    "    tf.keras.layers.Dense(5, activation='softmax')  # 5 saídas: 0, 1, 2, 3, 4\n",
    "])\n",
    "\n",
    "# Compilar o modelo\n",
    "model.compile(optimizer='adam', loss='sparse_categorical_crossentropy', metrics=['accuracy'])\n",
    "\n",
    "# Treinar o modelo\n",
    "model.fit(X_train, y_train, epochs=10, batch_size=32, validation_split=0.2, callbacks=[tensorboard_callback])\n"
   ]
  },
  {
   "cell_type": "code",
   "execution_count": null,
   "metadata": {},
   "outputs": [],
   "source": [
    "\n",
    "# Avaliar o modelo\n",
    "loss, accuracy = model.evaluate(X_test, y_test)\n",
    "print(f'Model Accuracy: {accuracy * 100:.2f}%')\n",
    "\n",
    "# Fazer previsões (opcional)\n",
    "predictions = model.predict(X_test)"
   ]
  },
  {
   "cell_type": "code",
   "execution_count": null,
   "metadata": {},
   "outputs": [],
   "source": [
    "%tensorboard"
   ]
  },
  {
   "cell_type": "code",
   "execution_count": null,
   "metadata": {},
   "outputs": [],
   "source": [
    "x__training,x__test,y__training,y__test=train_test_split(x_,y_,test_size=.percent,random_state=0)\n",
    "with open('.pkl',mode='wb') as f:\n",
    "     pickle.dump([x__training,y__training,x__test,y__test],f)"
   ]
  }
 ],
 "metadata": {
  "kernelspec": {
   "display_name": "base",
   "language": "python",
   "name": "python3"
  },
  "language_info": {
   "codemirror_mode": {
    "name": "ipython",
    "version": 3
   },
   "file_extension": ".py",
   "mimetype": "text/x-python",
   "name": "python",
   "nbconvert_exporter": "python",
   "pygments_lexer": "ipython3",
   "version": "3.11.7"
  }
 },
 "nbformat": 4,
 "nbformat_minor": 2
}
