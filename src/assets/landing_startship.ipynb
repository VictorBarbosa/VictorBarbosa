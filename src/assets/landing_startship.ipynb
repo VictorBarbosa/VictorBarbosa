{
 "cells": [
  {
   "cell_type": "code",
   "execution_count": 1,
   "metadata": {},
   "outputs": [
    {
     "name": "stderr",
     "output_type": "stream",
     "text": [
      "2024-06-23 16:54:56.422995: I tensorflow/core/platform/cpu_feature_guard.cc:210] This TensorFlow binary is optimized to use available CPU instructions in performance-critical operations.\n",
      "To enable the following instructions: AVX2 FMA, in other operations, rebuild TensorFlow with the appropriate compiler flags.\n"
     ]
    },
    {
     "name": "stdout",
     "output_type": "stream",
     "text": [
      "Versão do TensorFlow:  2.16.1\n"
     ]
    }
   ],
   "source": [
    "import numpy as np\n",
    "import tensorflow as tf\n",
    "from tensorflow.keras.models import Sequential\n",
    "from tensorflow.keras.layers import Dense\n",
    "from sklearn.model_selection import train_test_split\n",
    "from tensorflow.keras.callbacks import TensorBoard\n",
    "import datetime\n",
    "import pickle\n",
    "print('Versão do TensorFlow: ', tf.__version__)"
   ]
  },
  {
   "cell_type": "markdown",
   "metadata": {},
   "source": [
    "## Test GPU"
   ]
  },
  {
   "cell_type": "code",
   "execution_count": 4,
   "metadata": {},
   "outputs": [
    {
     "data": {
      "text/plain": [
       "[PhysicalDevice(name='/physical_device:CPU:0', device_type='CPU'),\n",
       " PhysicalDevice(name='/physical_device:GPU:0', device_type='GPU')]"
      ]
     },
     "execution_count": 4,
     "metadata": {},
     "output_type": "execute_result"
    }
   ],
   "source": [
    "tf.config.list_physical_devices()"
   ]
  },
  {
   "cell_type": "code",
   "execution_count": 7,
   "metadata": {},
   "outputs": [
    {
     "name": "stdout",
     "output_type": "stream",
     "text": [
      "Quantidade de 'Nothing': 0\n",
      "Quantidade de 'RotateLeft': 3640950\n",
      "Quantidade de 'RotateRight': 3640950\n",
      "Quantidade de 'Go Right': 3640950\n",
      "Quantidade de 'Go Left': 3640950\n"
     ]
    },
    {
     "data": {
      "text/plain": [
       "14563800"
      ]
     },
     "execution_count": 7,
     "metadata": {},
     "output_type": "execute_result"
    }
   ],
   "source": [
    "import numpy as np\n",
    "# Action\n",
    "# 0 Nothing\n",
    "# 1 Go Left \n",
    "# 2 Go Right\n",
    "# 3 RoteteLeft\n",
    "# 4 RotateRight\n",
    "# 5 TurnOnEngine\n",
    "\n",
    "# Gerar os dados conforme especificado\n",
    "\n",
    "\n",
    "data_rotate_left = []\n",
    "data_rotate_right = []\n",
    "data_go_right = []\n",
    "data_go_left = []\n",
    "\n",
    "# Preencher as listas de dados conforme as condições especificadas\n",
    "for x in range(900):\n",
    "    for currentX in range(900):\n",
    "        for angle in range(-180, 181):\n",
    "            if -90 <= angle <= -5:\n",
    "                data_rotate_left.append([x, currentX, angle, 3])  # RotateLeft\n",
    "            elif 5 <= angle <= 90:\n",
    "                data_rotate_right.append([x, currentX, angle, 4])  # RotateRight\n",
    "            elif -5 < angle < 5:\n",
    "                if currentX < x:\n",
    "                    data_go_right.append([x, currentX, angle, 2])  # Go Right\n",
    "                else:\n",
    "                    data_go_left.append([x, currentX, angle, 1])  # Go Left\n",
    "            # else:\n",
    "            #     data_nothing.append([x, currentX, angle, 0])  # Nothing\n",
    "\n",
    "\n",
    "# Determinar o tamanho mínimo entre as listas para balanceamento\n",
    "min_size = min(len(data_rotate_left), len(data_rotate_right), len(data_go_right), len(data_go_left))\n",
    "\n",
    "# Balancear as listas\n",
    "balanced_data = (\n",
    "    data_rotate_left[:min_size] +\n",
    "    data_rotate_right[:min_size] +\n",
    "    data_go_right[:min_size] +\n",
    "    data_go_left[:min_size]\n",
    ")\n",
    "\n",
    "# Contar a quantidade de cada tipo\n",
    " \n",
    "count_rotate_left = sum(1 for item in balanced_data if item[3] == 3)\n",
    "count_rotate_right = sum(1 for item in balanced_data if item[3] == 4)\n",
    "count_go_right = sum(1 for item in balanced_data if item[3] == 2)\n",
    "count_go_left = sum(1 for item in balanced_data if item[3] == 1)\n",
    "\n",
    "# Mostrar a quantidade de cada tipo\n",
    "\n",
    "print(\"Quantidade de 'RotateLeft':\", count_rotate_left)\n",
    "print(\"Quantidade de 'RotateRight':\", count_rotate_right)\n",
    "print(\"Quantidade de 'Go Right':\", count_go_right)\n",
    "print(\"Quantidade de 'Go Left':\", count_go_left)\n",
    "\n",
    "balanced_data = np.array(balanced_data)\n",
    "X = balanced_data[:, :3]  # Features: x, currentX e angle\n",
    "y = balanced_data[:, 3]   # Labels: 0, 1, 2, 3 ou 4\n",
    "\n",
    "len(balanced_data)"
   ]
  },
  {
   "cell_type": "code",
   "execution_count": 8,
   "metadata": {},
   "outputs": [],
   "source": [
    "\n",
    "# Dividir os dados em conjuntos de treinamento e teste\n",
    "X_train, X_test, y_train, y_test = train_test_split(X, y, test_size=0.2, random_state=42)\n",
    "\n"
   ]
  },
  {
   "cell_type": "code",
   "execution_count": 9,
   "metadata": {},
   "outputs": [],
   "source": [
    "\n",
    "# Salvar os dados em um arquivo .pkl\n",
    "with open('data.pkl', 'wb') as f:\n",
    "    pickle.dump([X_train, y_train, X_test, y_test], f)\n"
   ]
  },
  {
   "cell_type": "code",
   "execution_count": 10,
   "metadata": {},
   "outputs": [],
   "source": [
    "# Carregar os dados do arquivo .pkl\n",
    "with open('./data.pkl', 'rb') as f:\n",
    "    X_train, y_train, X_test, y_test = pickle.load(f)"
   ]
  },
  {
   "cell_type": "code",
   "execution_count": 11,
   "metadata": {},
   "outputs": [
    {
     "name": "stderr",
     "output_type": "stream",
     "text": [
      "/usr/local/lib/python3.11/dist-packages/keras/src/layers/core/dense.py:85: UserWarning: Do not pass an `input_shape`/`input_dim` argument to a layer. When using Sequential models, prefer using an `Input(shape)` object as the first layer in the model instead.\n",
      "  super().__init__(activity_regularizer=activity_regularizer, **kwargs)\n",
      "2024-06-23 17:07:58.439646: I external/local_xla/xla/stream_executor/cuda/cuda_executor.cc:984] could not open file to read NUMA node: /sys/bus/pci/devices/0000:01:00.0/numa_node\n",
      "Your kernel may have been built without NUMA support.\n",
      "2024-06-23 17:07:58.439861: I external/local_xla/xla/stream_executor/cuda/cuda_executor.cc:984] could not open file to read NUMA node: /sys/bus/pci/devices/0000:01:00.0/numa_node\n",
      "Your kernel may have been built without NUMA support.\n",
      "2024-06-23 17:07:58.439934: I external/local_xla/xla/stream_executor/cuda/cuda_executor.cc:984] could not open file to read NUMA node: /sys/bus/pci/devices/0000:01:00.0/numa_node\n",
      "Your kernel may have been built without NUMA support.\n",
      "2024-06-23 17:07:58.996504: I external/local_xla/xla/stream_executor/cuda/cuda_executor.cc:984] could not open file to read NUMA node: /sys/bus/pci/devices/0000:01:00.0/numa_node\n",
      "Your kernel may have been built without NUMA support.\n",
      "2024-06-23 17:07:58.996541: I external/local_xla/xla/stream_executor/cuda/cuda_executor.cc:984] could not open file to read NUMA node: /sys/bus/pci/devices/0000:01:00.0/numa_node\n",
      "Your kernel may have been built without NUMA support.\n",
      "2024-06-23 17:07:58.996549: I tensorflow/core/common_runtime/gpu/gpu_device.cc:2019] Could not identify NUMA node of platform GPU id 0, defaulting to 0.  Your kernel may not have been built with NUMA support.\n",
      "2024-06-23 17:07:58.996572: I external/local_xla/xla/stream_executor/cuda/cuda_executor.cc:984] could not open file to read NUMA node: /sys/bus/pci/devices/0000:01:00.0/numa_node\n",
      "Your kernel may have been built without NUMA support.\n",
      "2024-06-23 17:07:58.997014: I tensorflow/core/common_runtime/gpu/gpu_device.cc:1928] Created device /job:localhost/replica:0/task:0/device:GPU:0 with 9558 MB memory:  -> device: 0, name: NVIDIA GeForce RTX 4070, pci bus id: 0000:01:00.0, compute capability: 8.9\n"
     ]
    },
    {
     "name": "stdout",
     "output_type": "stream",
     "text": [
      "Epoch 1/100\n"
     ]
    },
    {
     "name": "stderr",
     "output_type": "stream",
     "text": [
      "WARNING: All log messages before absl::InitializeLog() is called are written to STDERR\n",
      "I0000 00:00:1719162481.434022     739 service.cc:145] XLA service 0x7f19bc0060f0 initialized for platform CUDA (this does not guarantee that XLA will be used). Devices:\n",
      "I0000 00:00:1719162481.434075     739 service.cc:153]   StreamExecutor device (0): NVIDIA GeForce RTX 4070, Compute Capability 8.9\n",
      "2024-06-23 17:08:01.472916: I tensorflow/compiler/mlir/tensorflow/utils/dump_mlir_util.cc:268] disabling MLIR crash reproducer, set env var `MLIR_CRASH_REPRODUCER_DIRECTORY` to enable.\n",
      "2024-06-23 17:08:01.642399: I external/local_xla/xla/stream_executor/cuda/cuda_dnn.cc:465] Loaded cuDNN version 8906\n",
      "WARNING: All log messages before absl::InitializeLog() is called are written to STDERR\n",
      "I0000 00:00:1719162484.137730     787 asm_compiler.cc:369] ptxas warning : Registers are spilled to local memory in function 'triton_gemm_dot_588', 12 bytes spill stores, 12 bytes spill loads\n",
      "\n",
      "I0000 00:00:1719162485.640770     787 asm_compiler.cc:369] ptxas warning : Registers are spilled to local memory in function 'triton_gemm_dot_210', 32 bytes spill stores, 40 bytes spill loads\n",
      "\n"
     ]
    },
    {
     "name": "stdout",
     "output_type": "stream",
     "text": [
      "\u001b[1m 23/292\u001b[0m \u001b[32m━\u001b[0m\u001b[37m━━━━━━━━━━━━━━━━━━━\u001b[0m \u001b[1m1s\u001b[0m 5ms/step - accuracy: 0.4179 - loss: 10.6424"
     ]
    },
    {
     "name": "stderr",
     "output_type": "stream",
     "text": [
      "I0000 00:00:1719162488.285431     739 device_compiler.h:188] Compiled cluster using XLA!  This line is logged at most once for the lifetime of the process.\n"
     ]
    },
    {
     "name": "stdout",
     "output_type": "stream",
     "text": [
      "\u001b[1m283/292\u001b[0m \u001b[32m━━━━━━━━━━━━━━━━━━━\u001b[0m\u001b[37m━\u001b[0m \u001b[1m0s\u001b[0m 5ms/step - accuracy: 0.8651 - loss: 1.7551"
     ]
    },
    {
     "name": "stderr",
     "output_type": "stream",
     "text": [
      "I0000 00:00:1719162490.890749     948 asm_compiler.cc:369] ptxas warning : Registers are spilled to local memory in function 'triton_gemm_dot_210', 60 bytes spill stores, 60 bytes spill loads\n",
      "\n",
      "I0000 00:00:1719162491.058323     953 asm_compiler.cc:369] ptxas warning : Registers are spilled to local memory in function 'triton_gemm_dot_588', 148 bytes spill stores, 148 bytes spill loads\n",
      "\n"
     ]
    },
    {
     "name": "stdout",
     "output_type": "stream",
     "text": [
      "\u001b[1m292/292\u001b[0m \u001b[32m━━━━━━━━━━━━━━━━━━━━\u001b[0m\u001b[37m\u001b[0m \u001b[1m0s\u001b[0m 27ms/step - accuracy: 0.8680 - loss: 1.7124"
     ]
    },
    {
     "name": "stderr",
     "output_type": "stream",
     "text": [
      "I0000 00:00:1719162498.298770    1126 asm_compiler.cc:369] ptxas warning : Registers are spilled to local memory in function 'triton_gemm_dot_39', 60 bytes spill stores, 60 bytes spill loads\n",
      "\n"
     ]
    },
    {
     "name": "stdout",
     "output_type": "stream",
     "text": [
      "\u001b[1m292/292\u001b[0m \u001b[32m━━━━━━━━━━━━━━━━━━━━\u001b[0m\u001b[37m\u001b[0m \u001b[1m20s\u001b[0m 40ms/step - accuracy: 0.8683 - loss: 1.7078 - val_accuracy: 0.9926 - val_loss: 0.0198\n",
      "Epoch 2/100\n",
      "\u001b[1m292/292\u001b[0m \u001b[32m━━━━━━━━━━━━━━━━━━━━\u001b[0m\u001b[37m\u001b[0m \u001b[1m2s\u001b[0m 5ms/step - accuracy: 0.9928 - loss: 0.0185 - val_accuracy: 0.9930 - val_loss: 0.0160\n",
      "Epoch 3/100\n",
      "\u001b[1m292/292\u001b[0m \u001b[32m━━━━━━━━━━━━━━━━━━━━\u001b[0m\u001b[37m\u001b[0m \u001b[1m2s\u001b[0m 5ms/step - accuracy: 0.9942 - loss: 0.0140 - val_accuracy: 0.9951 - val_loss: 0.0106\n",
      "Epoch 4/100\n",
      "\u001b[1m292/292\u001b[0m \u001b[32m━━━━━━━━━━━━━━━━━━━━\u001b[0m\u001b[37m\u001b[0m \u001b[1m2s\u001b[0m 5ms/step - accuracy: 0.9963 - loss: 0.0092 - val_accuracy: 0.9971 - val_loss: 0.0071\n",
      "Epoch 5/100\n",
      "\u001b[1m292/292\u001b[0m \u001b[32m━━━━━━━━━━━━━━━━━━━━\u001b[0m\u001b[37m\u001b[0m \u001b[1m2s\u001b[0m 6ms/step - accuracy: 0.9977 - loss: 0.0067 - val_accuracy: 0.9973 - val_loss: 0.0062\n",
      "Epoch 6/100\n",
      "\u001b[1m292/292\u001b[0m \u001b[32m━━━━━━━━━━━━━━━━━━━━\u001b[0m\u001b[37m\u001b[0m \u001b[1m2s\u001b[0m 6ms/step - accuracy: 0.9886 - loss: 0.0778 - val_accuracy: 0.9973 - val_loss: 0.0073\n",
      "Epoch 7/100\n",
      "\u001b[1m292/292\u001b[0m \u001b[32m━━━━━━━━━━━━━━━━━━━━\u001b[0m\u001b[37m\u001b[0m \u001b[1m2s\u001b[0m 6ms/step - accuracy: 0.9973 - loss: 0.0072 - val_accuracy: 0.9969 - val_loss: 0.0077\n",
      "Epoch 8/100\n",
      "\u001b[1m292/292\u001b[0m \u001b[32m━━━━━━━━━━━━━━━━━━━━\u001b[0m\u001b[37m\u001b[0m \u001b[1m2s\u001b[0m 6ms/step - accuracy: 0.9982 - loss: 0.0062 - val_accuracy: 0.9986 - val_loss: 0.0053\n",
      "Epoch 9/100\n",
      "\u001b[1m292/292\u001b[0m \u001b[32m━━━━━━━━━━━━━━━━━━━━\u001b[0m\u001b[37m\u001b[0m \u001b[1m2s\u001b[0m 6ms/step - accuracy: 0.9989 - loss: 0.0053 - val_accuracy: 0.9997 - val_loss: 0.0043\n",
      "Epoch 10/100\n",
      "\u001b[1m292/292\u001b[0m \u001b[32m━━━━━━━━━━━━━━━━━━━━\u001b[0m\u001b[37m\u001b[0m \u001b[1m2s\u001b[0m 6ms/step - accuracy: 0.9992 - loss: 0.0046 - val_accuracy: 0.9997 - val_loss: 0.0033\n",
      "Epoch 11/100\n",
      "\u001b[1m292/292\u001b[0m \u001b[32m━━━━━━━━━━━━━━━━━━━━\u001b[0m\u001b[37m\u001b[0m \u001b[1m3s\u001b[0m 6ms/step - accuracy: 0.9996 - loss: 0.0033 - val_accuracy: 0.9998 - val_loss: 0.0018\n",
      "Epoch 12/100\n",
      "\u001b[1m292/292\u001b[0m \u001b[32m━━━━━━━━━━━━━━━━━━━━\u001b[0m\u001b[37m\u001b[0m \u001b[1m2s\u001b[0m 6ms/step - accuracy: 0.9995 - loss: 0.0025 - val_accuracy: 1.0000 - val_loss: 0.0013\n",
      "Epoch 13/100\n",
      "\u001b[1m292/292\u001b[0m \u001b[32m━━━━━━━━━━━━━━━━━━━━\u001b[0m\u001b[37m\u001b[0m \u001b[1m2s\u001b[0m 6ms/step - accuracy: 0.9994 - loss: 0.0025 - val_accuracy: 0.9989 - val_loss: 0.0030\n",
      "Epoch 14/100\n",
      "\u001b[1m292/292\u001b[0m \u001b[32m━━━━━━━━━━━━━━━━━━━━\u001b[0m\u001b[37m\u001b[0m \u001b[1m2s\u001b[0m 6ms/step - accuracy: 0.9993 - loss: 0.0026 - val_accuracy: 0.9998 - val_loss: 0.0013\n",
      "Epoch 15/100\n",
      "\u001b[1m292/292\u001b[0m \u001b[32m━━━━━━━━━━━━━━━━━━━━\u001b[0m\u001b[37m\u001b[0m \u001b[1m2s\u001b[0m 6ms/step - accuracy: 0.9994 - loss: 0.0021 - val_accuracy: 0.9999 - val_loss: 0.0012\n",
      "Epoch 16/100\n",
      "\u001b[1m292/292\u001b[0m \u001b[32m━━━━━━━━━━━━━━━━━━━━\u001b[0m\u001b[37m\u001b[0m \u001b[1m2s\u001b[0m 6ms/step - accuracy: 0.9995 - loss: 0.0021 - val_accuracy: 1.0000 - val_loss: 8.7216e-04\n",
      "Epoch 17/100\n",
      "\u001b[1m292/292\u001b[0m \u001b[32m━━━━━━━━━━━━━━━━━━━━\u001b[0m\u001b[37m\u001b[0m \u001b[1m2s\u001b[0m 6ms/step - accuracy: 0.9973 - loss: 0.0204 - val_accuracy: 0.9992 - val_loss: 0.0041\n",
      "Epoch 18/100\n",
      "\u001b[1m292/292\u001b[0m \u001b[32m━━━━━━━━━━━━━━━━━━━━\u001b[0m\u001b[37m\u001b[0m \u001b[1m2s\u001b[0m 6ms/step - accuracy: 0.9994 - loss: 0.0038 - val_accuracy: 0.9997 - val_loss: 0.0022\n",
      "Epoch 19/100\n",
      "\u001b[1m292/292\u001b[0m \u001b[32m━━━━━━━━━━━━━━━━━━━━\u001b[0m\u001b[37m\u001b[0m \u001b[1m2s\u001b[0m 6ms/step - accuracy: 0.9998 - loss: 0.0020 - val_accuracy: 0.9996 - val_loss: 0.0018\n",
      "Epoch 20/100\n",
      "\u001b[1m292/292\u001b[0m \u001b[32m━━━━━━━━━━━━━━━━━━━━\u001b[0m\u001b[37m\u001b[0m \u001b[1m2s\u001b[0m 5ms/step - accuracy: 0.9998 - loss: 0.0015 - val_accuracy: 0.9996 - val_loss: 0.0014\n",
      "Epoch 21/100\n",
      "\u001b[1m292/292\u001b[0m \u001b[32m━━━━━━━━━━━━━━━━━━━━\u001b[0m\u001b[37m\u001b[0m \u001b[1m2s\u001b[0m 6ms/step - accuracy: 0.9997 - loss: 0.0014 - val_accuracy: 0.9996 - val_loss: 0.0012\n",
      "Epoch 22/100\n",
      "\u001b[1m292/292\u001b[0m \u001b[32m━━━━━━━━━━━━━━━━━━━━\u001b[0m\u001b[37m\u001b[0m \u001b[1m2s\u001b[0m 6ms/step - accuracy: 0.9997 - loss: 0.0011 - val_accuracy: 0.9997 - val_loss: 9.0034e-04\n",
      "Epoch 23/100\n",
      "\u001b[1m292/292\u001b[0m \u001b[32m━━━━━━━━━━━━━━━━━━━━\u001b[0m\u001b[37m\u001b[0m \u001b[1m2s\u001b[0m 6ms/step - accuracy: 0.9996 - loss: 0.0011 - val_accuracy: 0.9995 - val_loss: 0.0012\n",
      "Epoch 24/100\n",
      "\u001b[1m292/292\u001b[0m \u001b[32m━━━━━━━━━━━━━━━━━━━━\u001b[0m\u001b[37m\u001b[0m \u001b[1m2s\u001b[0m 5ms/step - accuracy: 0.9997 - loss: 9.7749e-04 - val_accuracy: 0.9999 - val_loss: 6.0784e-04\n",
      "Epoch 25/100\n",
      "\u001b[1m292/292\u001b[0m \u001b[32m━━━━━━━━━━━━━━━━━━━━\u001b[0m\u001b[37m\u001b[0m \u001b[1m2s\u001b[0m 5ms/step - accuracy: 0.9995 - loss: 0.0020 - val_accuracy: 0.9922 - val_loss: 0.0415\n",
      "Epoch 26/100\n",
      "\u001b[1m292/292\u001b[0m \u001b[32m━━━━━━━━━━━━━━━━━━━━\u001b[0m\u001b[37m\u001b[0m \u001b[1m2s\u001b[0m 6ms/step - accuracy: 0.9961 - loss: 0.0120 - val_accuracy: 0.9993 - val_loss: 0.0035\n",
      "Epoch 27/100\n",
      "\u001b[1m292/292\u001b[0m \u001b[32m━━━━━━━━━━━━━━━━━━━━\u001b[0m\u001b[37m\u001b[0m \u001b[1m2s\u001b[0m 4ms/step - accuracy: 0.9997 - loss: 0.0030 - val_accuracy: 0.9996 - val_loss: 0.0018\n",
      "Epoch 28/100\n",
      "\u001b[1m292/292\u001b[0m \u001b[32m━━━━━━━━━━━━━━━━━━━━\u001b[0m\u001b[37m\u001b[0m \u001b[1m2s\u001b[0m 4ms/step - accuracy: 0.9998 - loss: 0.0018 - val_accuracy: 1.0000 - val_loss: 0.0013\n",
      "Epoch 29/100\n",
      "\u001b[1m292/292\u001b[0m \u001b[32m━━━━━━━━━━━━━━━━━━━━\u001b[0m\u001b[37m\u001b[0m \u001b[1m2s\u001b[0m 5ms/step - accuracy: 0.9998 - loss: 0.0014 - val_accuracy: 1.0000 - val_loss: 9.7236e-04\n",
      "Epoch 30/100\n",
      "\u001b[1m292/292\u001b[0m \u001b[32m━━━━━━━━━━━━━━━━━━━━\u001b[0m\u001b[37m\u001b[0m \u001b[1m2s\u001b[0m 5ms/step - accuracy: 0.9995 - loss: 0.0017 - val_accuracy: 0.9995 - val_loss: 0.0022\n",
      "Epoch 31/100\n",
      "\u001b[1m292/292\u001b[0m \u001b[32m━━━━━━━━━━━━━━━━━━━━\u001b[0m\u001b[37m\u001b[0m \u001b[1m2s\u001b[0m 6ms/step - accuracy: 0.9998 - loss: 0.0016 - val_accuracy: 0.9996 - val_loss: 0.0015\n",
      "Epoch 32/100\n",
      "\u001b[1m292/292\u001b[0m \u001b[32m━━━━━━━━━━━━━━━━━━━━\u001b[0m\u001b[37m\u001b[0m \u001b[1m2s\u001b[0m 6ms/step - accuracy: 0.9998 - loss: 0.0012 - val_accuracy: 0.9988 - val_loss: 0.0037\n",
      "Epoch 33/100\n",
      "\u001b[1m292/292\u001b[0m \u001b[32m━━━━━━━━━━━━━━━━━━━━\u001b[0m\u001b[37m\u001b[0m \u001b[1m2s\u001b[0m 6ms/step - accuracy: 0.9981 - loss: 0.0138 - val_accuracy: 0.9984 - val_loss: 0.0049\n",
      "Epoch 34/100\n",
      "\u001b[1m292/292\u001b[0m \u001b[32m━━━━━━━━━━━━━━━━━━━━\u001b[0m\u001b[37m\u001b[0m \u001b[1m2s\u001b[0m 6ms/step - accuracy: 0.9986 - loss: 0.0047 - val_accuracy: 0.9991 - val_loss: 0.0038\n",
      "Epoch 35/100\n",
      "\u001b[1m292/292\u001b[0m \u001b[32m━━━━━━━━━━━━━━━━━━━━\u001b[0m\u001b[37m\u001b[0m \u001b[1m2s\u001b[0m 6ms/step - accuracy: 0.9993 - loss: 0.0034 - val_accuracy: 0.9992 - val_loss: 0.0036\n",
      "Epoch 36/100\n",
      "\u001b[1m292/292\u001b[0m \u001b[32m━━━━━━━━━━━━━━━━━━━━\u001b[0m\u001b[37m\u001b[0m \u001b[1m2s\u001b[0m 6ms/step - accuracy: 0.9997 - loss: 0.0024 - val_accuracy: 0.9999 - val_loss: 9.0125e-04\n",
      "Epoch 37/100\n",
      "\u001b[1m292/292\u001b[0m \u001b[32m━━━━━━━━━━━━━━━━━━━━\u001b[0m\u001b[37m\u001b[0m \u001b[1m2s\u001b[0m 6ms/step - accuracy: 0.9998 - loss: 9.0762e-04 - val_accuracy: 0.9992 - val_loss: 0.0024\n",
      "Epoch 38/100\n",
      "\u001b[1m292/292\u001b[0m \u001b[32m━━━━━━━━━━━━━━━━━━━━\u001b[0m\u001b[37m\u001b[0m \u001b[1m2s\u001b[0m 5ms/step - accuracy: 0.9996 - loss: 0.0013 - val_accuracy: 0.9997 - val_loss: 7.7348e-04\n",
      "Epoch 39/100\n",
      "\u001b[1m292/292\u001b[0m \u001b[32m━━━━━━━━━━━━━━━━━━━━\u001b[0m\u001b[37m\u001b[0m \u001b[1m2s\u001b[0m 5ms/step - accuracy: 0.9996 - loss: 9.4587e-04 - val_accuracy: 0.9996 - val_loss: 6.5045e-04\n",
      "Epoch 40/100\n",
      "\u001b[1m292/292\u001b[0m \u001b[32m━━━━━━━━━━━━━━━━━━━━\u001b[0m\u001b[37m\u001b[0m \u001b[1m2s\u001b[0m 6ms/step - accuracy: 0.9997 - loss: 7.3836e-04 - val_accuracy: 0.9997 - val_loss: 5.5495e-04\n",
      "Epoch 41/100\n",
      "\u001b[1m292/292\u001b[0m \u001b[32m━━━━━━━━━━━━━━━━━━━━\u001b[0m\u001b[37m\u001b[0m \u001b[1m2s\u001b[0m 5ms/step - accuracy: 0.9999 - loss: 5.0274e-04 - val_accuracy: 0.9984 - val_loss: 0.0108\n",
      "Epoch 42/100\n",
      "\u001b[1m292/292\u001b[0m \u001b[32m━━━━━━━━━━━━━━━━━━━━\u001b[0m\u001b[37m\u001b[0m \u001b[1m2s\u001b[0m 6ms/step - accuracy: 0.9995 - loss: 0.0019 - val_accuracy: 0.9997 - val_loss: 6.7872e-04\n",
      "Epoch 43/100\n",
      "\u001b[1m292/292\u001b[0m \u001b[32m━━━━━━━━━━━━━━━━━━━━\u001b[0m\u001b[37m\u001b[0m \u001b[1m2s\u001b[0m 5ms/step - accuracy: 0.9998 - loss: 5.0126e-04 - val_accuracy: 1.0000 - val_loss: 3.0497e-04\n",
      "Epoch 44/100\n",
      "\u001b[1m292/292\u001b[0m \u001b[32m━━━━━━━━━━━━━━━━━━━━\u001b[0m\u001b[37m\u001b[0m \u001b[1m2s\u001b[0m 6ms/step - accuracy: 0.9988 - loss: 0.0108 - val_accuracy: 0.9962 - val_loss: 0.0101\n",
      "Epoch 45/100\n",
      "\u001b[1m292/292\u001b[0m \u001b[32m━━━━━━━━━━━━━━━━━━━━\u001b[0m\u001b[37m\u001b[0m \u001b[1m2s\u001b[0m 6ms/step - accuracy: 0.9979 - loss: 0.0057 - val_accuracy: 0.9995 - val_loss: 0.0027\n",
      "Epoch 46/100\n",
      "\u001b[1m292/292\u001b[0m \u001b[32m━━━━━━━━━━━━━━━━━━━━\u001b[0m\u001b[37m\u001b[0m \u001b[1m2s\u001b[0m 5ms/step - accuracy: 0.9996 - loss: 0.0024 - val_accuracy: 0.9996 - val_loss: 0.0017\n",
      "Epoch 47/100\n",
      "\u001b[1m292/292\u001b[0m \u001b[32m━━━━━━━━━━━━━━━━━━━━\u001b[0m\u001b[37m\u001b[0m \u001b[1m2s\u001b[0m 5ms/step - accuracy: 0.9997 - loss: 0.0017 - val_accuracy: 0.9994 - val_loss: 0.0020\n",
      "Epoch 48/100\n",
      "\u001b[1m292/292\u001b[0m \u001b[32m━━━━━━━━━━━━━━━━━━━━\u001b[0m\u001b[37m\u001b[0m \u001b[1m2s\u001b[0m 6ms/step - accuracy: 0.9991 - loss: 0.0036 - val_accuracy: 1.0000 - val_loss: 7.4059e-04\n",
      "Epoch 49/100\n",
      "\u001b[1m292/292\u001b[0m \u001b[32m━━━━━━━━━━━━━━━━━━━━\u001b[0m\u001b[37m\u001b[0m \u001b[1m2s\u001b[0m 6ms/step - accuracy: 0.9998 - loss: 7.2587e-04 - val_accuracy: 1.0000 - val_loss: 3.7581e-04\n",
      "Epoch 50/100\n",
      "\u001b[1m292/292\u001b[0m \u001b[32m━━━━━━━━━━━━━━━━━━━━\u001b[0m\u001b[37m\u001b[0m \u001b[1m2s\u001b[0m 5ms/step - accuracy: 0.9998 - loss: 7.0853e-04 - val_accuracy: 0.9994 - val_loss: 0.0014\n",
      "Epoch 51/100\n",
      "\u001b[1m292/292\u001b[0m \u001b[32m━━━━━━━━━━━━━━━━━━━━\u001b[0m\u001b[37m\u001b[0m \u001b[1m2s\u001b[0m 5ms/step - accuracy: 0.9998 - loss: 7.3181e-04 - val_accuracy: 1.0000 - val_loss: 4.5703e-04\n",
      "Epoch 52/100\n",
      "\u001b[1m292/292\u001b[0m \u001b[32m━━━━━━━━━━━━━━━━━━━━\u001b[0m\u001b[37m\u001b[0m \u001b[1m2s\u001b[0m 5ms/step - accuracy: 0.9999 - loss: 4.7765e-04 - val_accuracy: 0.9997 - val_loss: 7.6102e-04\n",
      "Epoch 53/100\n",
      "\u001b[1m292/292\u001b[0m \u001b[32m━━━━━━━━━━━━━━━━━━━━\u001b[0m\u001b[37m\u001b[0m \u001b[1m2s\u001b[0m 6ms/step - accuracy: 0.9997 - loss: 7.7065e-04 - val_accuracy: 0.9997 - val_loss: 5.1202e-04\n",
      "Epoch 54/100\n",
      "\u001b[1m292/292\u001b[0m \u001b[32m━━━━━━━━━━━━━━━━━━━━\u001b[0m\u001b[37m\u001b[0m \u001b[1m2s\u001b[0m 5ms/step - accuracy: 0.9998 - loss: 5.0444e-04 - val_accuracy: 1.0000 - val_loss: 2.8516e-04\n",
      "Epoch 55/100\n",
      "\u001b[1m292/292\u001b[0m \u001b[32m━━━━━━━━━━━━━━━━━━━━\u001b[0m\u001b[37m\u001b[0m \u001b[1m2s\u001b[0m 5ms/step - accuracy: 0.9999 - loss: 4.7247e-04 - val_accuracy: 1.0000 - val_loss: 2.3350e-04\n",
      "Epoch 56/100\n",
      "\u001b[1m292/292\u001b[0m \u001b[32m━━━━━━━━━━━━━━━━━━━━\u001b[0m\u001b[37m\u001b[0m \u001b[1m2s\u001b[0m 5ms/step - accuracy: 0.9998 - loss: 6.7546e-04 - val_accuracy: 0.9997 - val_loss: 6.0671e-04\n",
      "Epoch 57/100\n",
      "\u001b[1m292/292\u001b[0m \u001b[32m━━━━━━━━━━━━━━━━━━━━\u001b[0m\u001b[37m\u001b[0m \u001b[1m2s\u001b[0m 5ms/step - accuracy: 0.9999 - loss: 3.4880e-04 - val_accuracy: 0.9997 - val_loss: 6.1944e-04\n",
      "Epoch 58/100\n",
      "\u001b[1m292/292\u001b[0m \u001b[32m━━━━━━━━━━━━━━━━━━━━\u001b[0m\u001b[37m\u001b[0m \u001b[1m2s\u001b[0m 5ms/step - accuracy: 0.9998 - loss: 7.4007e-04 - val_accuracy: 1.0000 - val_loss: 2.1376e-04\n",
      "Epoch 59/100\n",
      "\u001b[1m292/292\u001b[0m \u001b[32m━━━━━━━━━━━━━━━━━━━━\u001b[0m\u001b[37m\u001b[0m \u001b[1m2s\u001b[0m 5ms/step - accuracy: 0.9996 - loss: 0.0021 - val_accuracy: 0.9911 - val_loss: 0.0296\n",
      "Epoch 60/100\n",
      "\u001b[1m292/292\u001b[0m \u001b[32m━━━━━━━━━━━━━━━━━━━━\u001b[0m\u001b[37m\u001b[0m \u001b[1m2s\u001b[0m 6ms/step - accuracy: 0.9965 - loss: 0.0111 - val_accuracy: 1.0000 - val_loss: 8.4872e-04\n",
      "Epoch 61/100\n",
      "\u001b[1m292/292\u001b[0m \u001b[32m━━━━━━━━━━━━━━━━━━━━\u001b[0m\u001b[37m\u001b[0m \u001b[1m2s\u001b[0m 5ms/step - accuracy: 0.9997 - loss: 0.0013 - val_accuracy: 1.0000 - val_loss: 6.2085e-04\n",
      "Epoch 62/100\n",
      "\u001b[1m292/292\u001b[0m \u001b[32m━━━━━━━━━━━━━━━━━━━━\u001b[0m\u001b[37m\u001b[0m \u001b[1m2s\u001b[0m 5ms/step - accuracy: 0.9998 - loss: 9.9218e-04 - val_accuracy: 0.9997 - val_loss: 7.8804e-04\n",
      "Epoch 63/100\n",
      "\u001b[1m292/292\u001b[0m \u001b[32m━━━━━━━━━━━━━━━━━━━━\u001b[0m\u001b[37m\u001b[0m \u001b[1m2s\u001b[0m 5ms/step - accuracy: 0.9997 - loss: 9.6563e-04 - val_accuracy: 1.0000 - val_loss: 4.1012e-04\n",
      "Epoch 64/100\n",
      "\u001b[1m292/292\u001b[0m \u001b[32m━━━━━━━━━━━━━━━━━━━━\u001b[0m\u001b[37m\u001b[0m \u001b[1m2s\u001b[0m 6ms/step - accuracy: 0.9999 - loss: 4.6352e-04 - val_accuracy: 1.0000 - val_loss: 3.8647e-04\n",
      "Epoch 65/100\n",
      "\u001b[1m292/292\u001b[0m \u001b[32m━━━━━━━━━━━━━━━━━━━━\u001b[0m\u001b[37m\u001b[0m \u001b[1m2s\u001b[0m 5ms/step - accuracy: 0.9999 - loss: 4.7848e-04 - val_accuracy: 0.9999 - val_loss: 3.7083e-04\n",
      "Epoch 66/100\n",
      "\u001b[1m292/292\u001b[0m \u001b[32m━━━━━━━━━━━━━━━━━━━━\u001b[0m\u001b[37m\u001b[0m \u001b[1m2s\u001b[0m 5ms/step - accuracy: 0.9998 - loss: 6.2697e-04 - val_accuracy: 0.9999 - val_loss: 3.3730e-04\n",
      "Epoch 67/100\n",
      "\u001b[1m292/292\u001b[0m \u001b[32m━━━━━━━━━━━━━━━━━━━━\u001b[0m\u001b[37m\u001b[0m \u001b[1m2s\u001b[0m 5ms/step - accuracy: 0.9998 - loss: 6.3096e-04 - val_accuracy: 1.0000 - val_loss: 2.7468e-04\n",
      "Epoch 68/100\n",
      "\u001b[1m292/292\u001b[0m \u001b[32m━━━━━━━━━━━━━━━━━━━━\u001b[0m\u001b[37m\u001b[0m \u001b[1m2s\u001b[0m 6ms/step - accuracy: 0.9999 - loss: 4.1569e-04 - val_accuracy: 0.9996 - val_loss: 9.3425e-04\n",
      "Epoch 69/100\n",
      "\u001b[1m292/292\u001b[0m \u001b[32m━━━━━━━━━━━━━━━━━━━━\u001b[0m\u001b[37m\u001b[0m \u001b[1m2s\u001b[0m 6ms/step - accuracy: 0.9998 - loss: 5.3543e-04 - val_accuracy: 0.9998 - val_loss: 4.0226e-04\n",
      "Epoch 70/100\n",
      "\u001b[1m292/292\u001b[0m \u001b[32m━━━━━━━━━━━━━━━━━━━━\u001b[0m\u001b[37m\u001b[0m \u001b[1m2s\u001b[0m 6ms/step - accuracy: 0.9998 - loss: 5.0525e-04 - val_accuracy: 0.9998 - val_loss: 3.9660e-04\n",
      "Epoch 71/100\n",
      "\u001b[1m292/292\u001b[0m \u001b[32m━━━━━━━━━━━━━━━━━━━━\u001b[0m\u001b[37m\u001b[0m \u001b[1m2s\u001b[0m 5ms/step - accuracy: 0.9999 - loss: 3.7061e-04 - val_accuracy: 0.9996 - val_loss: 8.5652e-04\n",
      "Epoch 72/100\n",
      "\u001b[1m292/292\u001b[0m \u001b[32m━━━━━━━━━━━━━━━━━━━━\u001b[0m\u001b[37m\u001b[0m \u001b[1m2s\u001b[0m 5ms/step - accuracy: 0.9980 - loss: 0.0197 - val_accuracy: 0.9967 - val_loss: 0.0074\n",
      "Epoch 73/100\n",
      "\u001b[1m292/292\u001b[0m \u001b[32m━━━━━━━━━━━━━━━━━━━━\u001b[0m\u001b[37m\u001b[0m \u001b[1m2s\u001b[0m 6ms/step - accuracy: 0.9984 - loss: 0.0049 - val_accuracy: 0.9992 - val_loss: 0.0030\n",
      "Epoch 74/100\n",
      "\u001b[1m292/292\u001b[0m \u001b[32m━━━━━━━━━━━━━━━━━━━━\u001b[0m\u001b[37m\u001b[0m \u001b[1m2s\u001b[0m 5ms/step - accuracy: 0.9996 - loss: 0.0024 - val_accuracy: 0.9997 - val_loss: 0.0016\n",
      "Epoch 75/100\n",
      "\u001b[1m292/292\u001b[0m \u001b[32m━━━━━━━━━━━━━━━━━━━━\u001b[0m\u001b[37m\u001b[0m \u001b[1m3s\u001b[0m 7ms/step - accuracy: 0.9996 - loss: 0.0017 - val_accuracy: 0.9993 - val_loss: 0.0019\n",
      "Epoch 76/100\n",
      "\u001b[1m292/292\u001b[0m \u001b[32m━━━━━━━━━━━━━━━━━━━━\u001b[0m\u001b[37m\u001b[0m \u001b[1m2s\u001b[0m 6ms/step - accuracy: 0.9996 - loss: 0.0015 - val_accuracy: 0.9995 - val_loss: 0.0012\n",
      "Epoch 77/100\n",
      "\u001b[1m292/292\u001b[0m \u001b[32m━━━━━━━━━━━━━━━━━━━━\u001b[0m\u001b[37m\u001b[0m \u001b[1m2s\u001b[0m 5ms/step - accuracy: 0.9996 - loss: 0.0013 - val_accuracy: 0.9998 - val_loss: 7.2532e-04\n",
      "Epoch 78/100\n",
      "\u001b[1m292/292\u001b[0m \u001b[32m━━━━━━━━━━━━━━━━━━━━\u001b[0m\u001b[37m\u001b[0m \u001b[1m2s\u001b[0m 6ms/step - accuracy: 0.9996 - loss: 0.0010 - val_accuracy: 0.9993 - val_loss: 0.0019\n",
      "Epoch 79/100\n",
      "\u001b[1m292/292\u001b[0m \u001b[32m━━━━━━━━━━━━━━━━━━━━\u001b[0m\u001b[37m\u001b[0m \u001b[1m2s\u001b[0m 5ms/step - accuracy: 0.9998 - loss: 8.9998e-04 - val_accuracy: 0.9996 - val_loss: 0.0010\n",
      "Epoch 80/100\n",
      "\u001b[1m292/292\u001b[0m \u001b[32m━━━━━━━━━━━━━━━━━━━━\u001b[0m\u001b[37m\u001b[0m \u001b[1m2s\u001b[0m 5ms/step - accuracy: 0.9998 - loss: 6.8834e-04 - val_accuracy: 0.9996 - val_loss: 8.8737e-04\n",
      "Epoch 81/100\n",
      "\u001b[1m292/292\u001b[0m \u001b[32m━━━━━━━━━━━━━━━━━━━━\u001b[0m\u001b[37m\u001b[0m \u001b[1m2s\u001b[0m 5ms/step - accuracy: 0.9998 - loss: 6.6493e-04 - val_accuracy: 0.9994 - val_loss: 0.0014\n",
      "Epoch 82/100\n",
      "\u001b[1m292/292\u001b[0m \u001b[32m━━━━━━━━━━━━━━━━━━━━\u001b[0m\u001b[37m\u001b[0m \u001b[1m2s\u001b[0m 5ms/step - accuracy: 0.9996 - loss: 0.0011 - val_accuracy: 1.0000 - val_loss: 4.1646e-04\n",
      "Epoch 83/100\n",
      "\u001b[1m292/292\u001b[0m \u001b[32m━━━━━━━━━━━━━━━━━━━━\u001b[0m\u001b[37m\u001b[0m \u001b[1m2s\u001b[0m 5ms/step - accuracy: 0.9997 - loss: 7.8347e-04 - val_accuracy: 0.9996 - val_loss: 6.4944e-04\n",
      "Epoch 84/100\n",
      "\u001b[1m292/292\u001b[0m \u001b[32m━━━━━━━━━━━━━━━━━━━━\u001b[0m\u001b[37m\u001b[0m \u001b[1m2s\u001b[0m 5ms/step - accuracy: 0.9999 - loss: 5.1362e-04 - val_accuracy: 0.9996 - val_loss: 8.3273e-04\n",
      "Epoch 85/100\n",
      "\u001b[1m292/292\u001b[0m \u001b[32m━━━━━━━━━━━━━━━━━━━━\u001b[0m\u001b[37m\u001b[0m \u001b[1m2s\u001b[0m 5ms/step - accuracy: 0.9997 - loss: 7.1711e-04 - val_accuracy: 0.9998 - val_loss: 4.4249e-04\n",
      "Epoch 86/100\n",
      "\u001b[1m292/292\u001b[0m \u001b[32m━━━━━━━━━━━━━━━━━━━━\u001b[0m\u001b[37m\u001b[0m \u001b[1m2s\u001b[0m 5ms/step - accuracy: 0.9998 - loss: 6.7110e-04 - val_accuracy: 0.9998 - val_loss: 3.9555e-04\n",
      "Epoch 87/100\n",
      "\u001b[1m292/292\u001b[0m \u001b[32m━━━━━━━━━━━━━━━━━━━━\u001b[0m\u001b[37m\u001b[0m \u001b[1m2s\u001b[0m 5ms/step - accuracy: 0.9997 - loss: 0.0011 - val_accuracy: 0.9986 - val_loss: 0.0062\n",
      "Epoch 88/100\n",
      "\u001b[1m292/292\u001b[0m \u001b[32m━━━━━━━━━━━━━━━━━━━━\u001b[0m\u001b[37m\u001b[0m \u001b[1m2s\u001b[0m 6ms/step - accuracy: 0.9946 - loss: 0.0388 - val_accuracy: 0.9991 - val_loss: 0.0042\n",
      "Epoch 89/100\n",
      "\u001b[1m292/292\u001b[0m \u001b[32m━━━━━━━━━━━━━━━━━━━━\u001b[0m\u001b[37m\u001b[0m \u001b[1m2s\u001b[0m 5ms/step - accuracy: 0.9996 - loss: 0.0028 - val_accuracy: 0.9994 - val_loss: 0.0022\n",
      "Epoch 90/100\n",
      "\u001b[1m292/292\u001b[0m \u001b[32m━━━━━━━━━━━━━━━━━━━━\u001b[0m\u001b[37m\u001b[0m \u001b[1m2s\u001b[0m 5ms/step - accuracy: 0.9997 - loss: 0.0014 - val_accuracy: 1.0000 - val_loss: 7.2846e-04\n",
      "Epoch 91/100\n",
      "\u001b[1m292/292\u001b[0m \u001b[32m━━━━━━━━━━━━━━━━━━━━\u001b[0m\u001b[37m\u001b[0m \u001b[1m2s\u001b[0m 5ms/step - accuracy: 0.9998 - loss: 8.1584e-04 - val_accuracy: 0.9998 - val_loss: 6.1816e-04\n",
      "Epoch 92/100\n",
      "\u001b[1m292/292\u001b[0m \u001b[32m━━━━━━━━━━━━━━━━━━━━\u001b[0m\u001b[37m\u001b[0m \u001b[1m2s\u001b[0m 5ms/step - accuracy: 0.9998 - loss: 7.1948e-04 - val_accuracy: 0.9992 - val_loss: 0.0019\n",
      "Epoch 93/100\n",
      "\u001b[1m292/292\u001b[0m \u001b[32m━━━━━━━━━━━━━━━━━━━━\u001b[0m\u001b[37m\u001b[0m \u001b[1m2s\u001b[0m 5ms/step - accuracy: 0.9996 - loss: 0.0011 - val_accuracy: 0.9998 - val_loss: 5.0411e-04\n",
      "Epoch 94/100\n",
      "\u001b[1m292/292\u001b[0m \u001b[32m━━━━━━━━━━━━━━━━━━━━\u001b[0m\u001b[37m\u001b[0m \u001b[1m2s\u001b[0m 5ms/step - accuracy: 0.9997 - loss: 7.8236e-04 - val_accuracy: 1.0000 - val_loss: 3.9844e-04\n",
      "Epoch 95/100\n",
      "\u001b[1m292/292\u001b[0m \u001b[32m━━━━━━━━━━━━━━━━━━━━\u001b[0m\u001b[37m\u001b[0m \u001b[1m2s\u001b[0m 5ms/step - accuracy: 0.9998 - loss: 6.6785e-04 - val_accuracy: 0.9996 - val_loss: 6.8272e-04\n",
      "Epoch 96/100\n",
      "\u001b[1m292/292\u001b[0m \u001b[32m━━━━━━━━━━━━━━━━━━━━\u001b[0m\u001b[37m\u001b[0m \u001b[1m2s\u001b[0m 6ms/step - accuracy: 0.9997 - loss: 7.0137e-04 - val_accuracy: 0.9992 - val_loss: 0.0023\n",
      "Epoch 97/100\n",
      "\u001b[1m292/292\u001b[0m \u001b[32m━━━━━━━━━━━━━━━━━━━━\u001b[0m\u001b[37m\u001b[0m \u001b[1m2s\u001b[0m 6ms/step - accuracy: 0.9997 - loss: 7.7482e-04 - val_accuracy: 1.0000 - val_loss: 2.4421e-04\n",
      "Epoch 98/100\n",
      "\u001b[1m292/292\u001b[0m \u001b[32m━━━━━━━━━━━━━━━━━━━━\u001b[0m\u001b[37m\u001b[0m \u001b[1m2s\u001b[0m 6ms/step - accuracy: 0.9971 - loss: 0.0228 - val_accuracy: 0.9997 - val_loss: 0.0013\n",
      "Epoch 99/100\n",
      "\u001b[1m292/292\u001b[0m \u001b[32m━━━━━━━━━━━━━━━━━━━━\u001b[0m\u001b[37m\u001b[0m \u001b[1m2s\u001b[0m 6ms/step - accuracy: 0.9998 - loss: 0.0012 - val_accuracy: 0.9997 - val_loss: 9.0396e-04\n",
      "Epoch 100/100\n",
      "\u001b[1m292/292\u001b[0m \u001b[32m━━━━━━━━━━━━━━━━━━━━\u001b[0m\u001b[37m\u001b[0m \u001b[1m2s\u001b[0m 5ms/step - accuracy: 0.9997 - loss: 0.0010 - val_accuracy: 1.0000 - val_loss: 4.7682e-04\n"
     ]
    },
    {
     "data": {
      "text/plain": [
       "<keras.src.callbacks.history.History at 0x7f1a387654d0>"
      ]
     },
     "execution_count": 11,
     "metadata": {},
     "output_type": "execute_result"
    }
   ],
   "source": [
    "%load_ext tensorboard\n",
    "log_dir = \"logs/fit/\" + datetime.datetime.now().strftime(\"%Y%m%d-%H%M%S\")\n",
    "tensorboard_callback = TensorBoard(log_dir=log_dir, histogram_freq=1)\n",
    "\n",
    "# Construir o modelo\n",
    "model = tf.keras.Sequential([\n",
    "    tf.keras.layers.Dense(128, activation='relu', input_shape=(3,)),  # Ajustar a entrada para 3 features\n",
    "    tf.keras.layers.Dense(64, activation='relu'),  # Ajustar a entrada para 3 features\n",
    "    tf.keras.layers.Dense(32, activation='relu'),\n",
    "    tf.keras.layers.Dense(16, activation='relu'),\n",
    "    tf.keras.layers.Dense(5, activation='softmax')  # 5 saídas: 0, 1, 2, 3, 4\n",
    "])\n",
    "\n",
    "# Compilar o modelo\n",
    "model.compile(optimizer='adam', loss='sparse_categorical_crossentropy', metrics=['accuracy'])\n",
    "\n",
    "# Treinar o modelo\n",
    "model.fit(X_train, y_train, epochs=100, batch_size=32000, validation_split=0.2, callbacks=[tensorboard_callback])\n"
   ]
  },
  {
   "cell_type": "code",
   "execution_count": 12,
   "metadata": {},
   "outputs": [
    {
     "name": "stdout",
     "output_type": "stream",
     "text": [
      "\u001b[1m91024/91024\u001b[0m \u001b[32m━━━━━━━━━━━━━━━━━━━━\u001b[0m\u001b[37m\u001b[0m \u001b[1m176s\u001b[0m 2ms/step - accuracy: 1.0000 - loss: 4.8812e-04\n",
      "Model Accuracy: 100.00%\n"
     ]
    }
   ],
   "source": [
    "\n",
    "# Avaliar o modelo\n",
    "loss, accuracy = model.evaluate(X_test, y_test)\n",
    "print(f'Model Accuracy: {accuracy * 100:.2f}%')\n"
   ]
  },
  {
   "cell_type": "code",
   "execution_count": 13,
   "metadata": {},
   "outputs": [
    {
     "name": "stdout",
     "output_type": "stream",
     "text": [
      "\u001b[1m1/1\u001b[0m \u001b[32m━━━━━━━━━━━━━━━━━━━━\u001b[0m\u001b[37m\u001b[0m \u001b[1m0s\u001b[0m 309ms/step\n",
      "This image most likely belongs to RoteteLeft with a 40.46 percent confidence.\n"
     ]
    }
   ],
   "source": [
    " \n",
    "\n",
    "\n",
    "targetX = 680\n",
    "agentX = 340\n",
    "angle = -50\n",
    "\n",
    "predictions = model.predict(np.array([[targetX, agentX, angle]]))\n",
    "# 0 Nothing\n",
    "# 1 Go Left\n",
    "# 2 Go Right\n",
    "# 3 RoteteLeft\n",
    "# 4 RotateRight\n",
    "# 5 TurnOnEngine\n",
    "class_names = ['Nothing', 'Go Left', 'Go Right',\n",
    "               'RoteteLeft', 'RotateRight', 'TurnOnEngine']\n",
    "\n",
    "score = tf.nn.softmax(predictions[0])\n",
    "print(\n",
    "    \"This image most likely belongs to {} with a {:.2f} percent confidence.\"\n",
    "    .format(class_names[np.argmax(score)], 100 * np.max(score))\n",
    ")"
   ]
  },
  {
   "cell_type": "code",
   "execution_count": null,
   "metadata": {},
   "outputs": [],
   "source": [
    "%tensorboard"
   ]
  },
  {
   "cell_type": "code",
   "execution_count": 14,
   "metadata": {},
   "outputs": [
    {
     "name": "stderr",
     "output_type": "stream",
     "text": [
      "WARNING:absl:You are saving your model as an HDF5 file via `model.save()` or `keras.saving.save_model(model)`. This file format is considered legacy. We recommend using instead the native Keras format, e.g. `model.save('my_model.keras')` or `keras.saving.save_model(model, 'my_model.keras')`. \n"
     ]
    }
   ],
   "source": [
    "model.save(\"./models/model_saved.h5\")\n",
    "model.save(filepath=\"./models/model_saved.keras\")\n",
    "\n",
    "\n",
    " "
   ]
  },
  {
   "cell_type": "markdown",
   "metadata": {},
   "source": [
    "#### The command below is to copy from the docker container to local folder"
   ]
  },
  {
   "cell_type": "code",
   "execution_count": null,
   "metadata": {},
   "outputs": [],
   "source": [
    "!docker cp cool_spence:/tf/models/. /mnt/d/git/victorbarbosa/src/assets/models/"
   ]
  },
  {
   "cell_type": "markdown",
   "metadata": {},
   "source": [
    "### From here to you only MACOS to test "
   ]
  },
  {
   "cell_type": "code",
   "execution_count": 21,
   "metadata": {},
   "outputs": [
    {
     "name": "stdout",
     "output_type": "stream",
     "text": [
      "\u001b[1m1/1\u001b[0m \u001b[32m━━━━━━━━━━━━━━━━━━━━\u001b[0m\u001b[37m\u001b[0m \u001b[1m0s\u001b[0m 154ms/step\n",
      "This image most likely belongs to RoteteLeft with a 40.46 percent confidence.\n"
     ]
    }
   ],
   "source": [
    "import tensorflow as tf\n",
    "import numpy as np\n",
    "model = tf.keras.models.load_model(\"./models/model_saved.keras\")\n",
    "\n",
    "targetX = 680\n",
    "agentX = 300\n",
    "angle = -50\n",
    "\n",
    "predictions = model.predict(np.array([[targetX, agentX, angle]]))\n",
    "# 0 Nothing\n",
    "# 1 Go Left\n",
    "# 2 Go Right\n",
    "# 3 RoteteLeft\n",
    "# 4 RotateRight\n",
    "# 5 TurnOnEngine\n",
    "class_names = ['Nothing', 'Go Left', 'Go Right',\n",
    "               'RoteteLeft', 'RotateRight', 'TurnOnEngine']\n",
    "\n",
    "score = tf.nn.softmax(predictions[0])\n",
    "print(\n",
    "    \"This image most likely belongs to {} with a {:.2f} percent confidence.\"\n",
    "    .format(class_names[np.argmax(score)], 100 * np.max(score))\n",
    ")"
   ]
  },
  {
   "cell_type": "code",
   "execution_count": 19,
   "metadata": {},
   "outputs": [
    {
     "name": "stderr",
     "output_type": "stream",
     "text": [
      "WARNING:absl:Compiled the loaded model, but the compiled metrics have yet to be built. `model.compile_metrics` will be empty until you train or evaluate the model.\n"
     ]
    },
    {
     "name": "stdout",
     "output_type": "stream",
     "text": [
      "INFO:tensorflow:Assets written to: ./models/saved_model/assets\n"
     ]
    },
    {
     "name": "stderr",
     "output_type": "stream",
     "text": [
      "INFO:tensorflow:Assets written to: ./models/saved_model/assets\n"
     ]
    },
    {
     "name": "stdout",
     "output_type": "stream",
     "text": [
      "2024-06-23 17:22:17.213101: I tensorflow/core/platform/cpu_feature_guard.cc:210] This TensorFlow binary is optimized to use available CPU instructions in performance-critical operations.\n",
      "To enable the following instructions: AVX2 FMA, in other operations, rebuild TensorFlow with the appropriate compiler flags.\n",
      "2024-06-23 17:22:19.511719: I external/local_xla/xla/stream_executor/cuda/cuda_executor.cc:984] could not open file to read NUMA node: /sys/bus/pci/devices/0000:01:00.0/numa_node\n",
      "Your kernel may have been built without NUMA support.\n",
      "2024-06-23 17:22:19.515849: I external/local_xla/xla/stream_executor/cuda/cuda_executor.cc:984] could not open file to read NUMA node: /sys/bus/pci/devices/0000:01:00.0/numa_node\n",
      "Your kernel may have been built without NUMA support.\n",
      "2024-06-23 17:22:19.515908: I external/local_xla/xla/stream_executor/cuda/cuda_executor.cc:984] could not open file to read NUMA node: /sys/bus/pci/devices/0000:01:00.0/numa_node\n",
      "Your kernel may have been built without NUMA support.\n",
      "2024-06-23 17:22:19.516861: I external/local_xla/xla/stream_executor/cuda/cuda_executor.cc:984] could not open file to read NUMA node: /sys/bus/pci/devices/0000:01:00.0/numa_node\n",
      "Your kernel may have been built without NUMA support.\n",
      "2024-06-23 17:22:19.516907: I external/local_xla/xla/stream_executor/cuda/cuda_executor.cc:984] could not open file to read NUMA node: /sys/bus/pci/devices/0000:01:00.0/numa_node\n",
      "Your kernel may have been built without NUMA support.\n",
      "2024-06-23 17:22:19.516926: I external/local_xla/xla/stream_executor/cuda/cuda_executor.cc:984] could not open file to read NUMA node: /sys/bus/pci/devices/0000:01:00.0/numa_node\n",
      "Your kernel may have been built without NUMA support.\n",
      "2024-06-23 17:22:19.647972: I external/local_xla/xla/stream_executor/cuda/cuda_executor.cc:984] could not open file to read NUMA node: /sys/bus/pci/devices/0000:01:00.0/numa_node\n",
      "Your kernel may have been built without NUMA support.\n",
      "2024-06-23 17:22:19.648045: I external/local_xla/xla/stream_executor/cuda/cuda_executor.cc:984] could not open file to read NUMA node: /sys/bus/pci/devices/0000:01:00.0/numa_node\n",
      "Your kernel may have been built without NUMA support.\n",
      "2024-06-23 17:22:19.648073: I tensorflow/core/common_runtime/gpu/gpu_device.cc:2019] Could not identify NUMA node of platform GPU id 0, defaulting to 0.  Your kernel may not have been built with NUMA support.\n",
      "2024-06-23 17:22:19.648123: I external/local_xla/xla/stream_executor/cuda/cuda_executor.cc:984] could not open file to read NUMA node: /sys/bus/pci/devices/0000:01:00.0/numa_node\n",
      "Your kernel may have been built without NUMA support.\n",
      "2024-06-23 17:22:19.648162: I tensorflow/core/common_runtime/gpu/gpu_device.cc:1928] Created device /job:localhost/replica:0/task:0/device:GPU:0 with 9341 MB memory:  -> device: 0, name: NVIDIA GeForce RTX 4070, pci bus id: 0000:01:00.0, compute capability: 8.9\n",
      "2024-06-23 17:22:20.836893: I external/local_xla/xla/stream_executor/cuda/cuda_executor.cc:984] could not open file to read NUMA node: /sys/bus/pci/devices/0000:01:00.0/numa_node\n",
      "Your kernel may have been built without NUMA support.\n",
      "2024-06-23 17:22:20.836939: I tensorflow/core/grappler/devices.cc:66] Number of eligible GPUs (core count >= 8, compute capability >= 0.0): 1\n",
      "2024-06-23 17:22:20.837384: I tensorflow/core/grappler/clusters/single_machine.cc:361] Starting new session\n",
      "2024-06-23 17:22:20.838066: I external/local_xla/xla/stream_executor/cuda/cuda_executor.cc:984] could not open file to read NUMA node: /sys/bus/pci/devices/0000:01:00.0/numa_node\n",
      "Your kernel may have been built without NUMA support.\n",
      "2024-06-23 17:22:20.838123: I external/local_xla/xla/stream_executor/cuda/cuda_executor.cc:984] could not open file to read NUMA node: /sys/bus/pci/devices/0000:01:00.0/numa_node\n",
      "Your kernel may have been built without NUMA support.\n",
      "2024-06-23 17:22:20.838169: I external/local_xla/xla/stream_executor/cuda/cuda_executor.cc:984] could not open file to read NUMA node: /sys/bus/pci/devices/0000:01:00.0/numa_node\n",
      "Your kernel may have been built without NUMA support.\n",
      "2024-06-23 17:22:20.838393: I external/local_xla/xla/stream_executor/cuda/cuda_executor.cc:984] could not open file to read NUMA node: /sys/bus/pci/devices/0000:01:00.0/numa_node\n",
      "Your kernel may have been built without NUMA support.\n",
      "2024-06-23 17:22:20.838425: I tensorflow/core/common_runtime/gpu/gpu_device.cc:2019] Could not identify NUMA node of platform GPU id 0, defaulting to 0.  Your kernel may not have been built with NUMA support.\n",
      "2024-06-23 17:22:20.838455: I external/local_xla/xla/stream_executor/cuda/cuda_executor.cc:984] could not open file to read NUMA node: /sys/bus/pci/devices/0000:01:00.0/numa_node\n",
      "Your kernel may have been built without NUMA support.\n",
      "2024-06-23 17:22:20.838489: I tensorflow/core/common_runtime/gpu/gpu_device.cc:1928] Created device /job:localhost/replica:0/task:0/device:GPU:0 with 9341 MB memory:  -> device: 0, name: NVIDIA GeForce RTX 4070, pci bus id: 0000:01:00.0, compute capability: 8.9\n"
     ]
    }
   ],
   "source": [
    "# !pip install tensorflowjs\n",
    "from tensorflow.keras.models import load_model\n",
    "import tensorflow as tf\n",
    "\n",
    "# Carregar o modelo do arquivo .h5\n",
    "model = load_model('./models/model_saved.h5')\n",
    "\n",
    "# Compile o modelo (você pode precisar ajustar a função de perda, otimizador e métricas conforme necessário)\n",
    "model.compile(optimizer='adam', loss='sparse_categorical_crossentropy', metrics=['accuracy'])\n",
    "\n",
    "# Salvar o modelo no formato SavedModel\n",
    "tf.saved_model.save(model, './models/saved_model/')\n",
    "\n",
    "!tensorflowjs_converter --input_format=tf_saved_model --output_format=tfjs_graph_model './models/saved_model/' models/web_model"
   ]
  }
 ],
 "metadata": {
  "kernelspec": {
   "display_name": "Python 3 (ipykernel)",
   "language": "python",
   "name": "python3"
  },
  "language_info": {
   "codemirror_mode": {
    "name": "ipython",
    "version": 3
   },
   "file_extension": ".py",
   "mimetype": "text/x-python",
   "name": "python",
   "nbconvert_exporter": "python",
   "pygments_lexer": "ipython3",
   "version": "3.11.0rc1"
  }
 },
 "nbformat": 4,
 "nbformat_minor": 2
}
